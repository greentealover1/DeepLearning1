{
  "cells": [
    {
      "cell_type": "markdown",
      "id": "aec43dcd",
      "metadata": {
        "id": "aec43dcd"
      },
      "source": [
        "# 2.1 퍼셉트론이란?"
      ]
    },
    {
      "cell_type": "markdown",
      "id": "ad57fb52",
      "metadata": {
        "id": "ad57fb52"
      },
      "source": [
        "## 퍼셉트론: 다수의 신호를 입력받아 하나의 신호를 출력한다.  \n",
        "ex) x1,x2가 입력신호이며, y가 출력신호, w1,w2가 가중치라고 할때 입력신호가 뉴런에 보내질때는 고유한 가중치가 곱해짐  \n",
        "ex)w1x1,w2x2처럼  \n",
        "이런 뉴런에서 보내온 신호 총합이 정해진 기준점을 넘을때만 1을 출력(한계기준점을 '임계값')이라고 한다  \n",
        "- 퍼센트론은 복수의 입력신호각각에 고유한 가중치를 부여한다. 가중치는 각 신호가 결과에 주는 영향력을 조절하는 요소로 작용"
      ]
    },
    {
      "cell_type": "markdown",
      "id": "001e021c",
      "metadata": {
        "id": "001e021c"
      },
      "source": [
        "## 2.2.1 AND게이트  \n",
        "입력이 둘, 출력이 하나라고 가정\n",
        "- and연산에 따라 두개의 입력이 둘다 1일때만 1, 그외에는 0출력"
      ]
    },
    {
      "cell_type": "markdown",
      "id": "ecb4e826",
      "metadata": {
        "id": "ecb4e826"
      },
      "source": [
        "## 2.2.2 NAND게이트와 OR게이트  \n",
        "not and=NAND 즉, and게이트의 출력을 반대로 한것을 의미"
      ]
    },
    {
      "cell_type": "markdown",
      "id": "634e099c",
      "metadata": {
        "id": "634e099c"
      },
      "source": [
        "nand게이트에서 (w1,w2,theta)=(-0.5,-0.5,-0.7)매개변수 조합이 가능.  \n",
        "or게이트에서 (w1,w2,theta)=(0.5,0.5,0.1)매개변수 조합이 가능."
      ]
    },
    {
      "cell_type": "markdown",
      "id": "4cb080ed",
      "metadata": {
        "id": "4cb080ed"
      },
      "source": [
        "### 알 수 있는 점: 게이트에서 다른 것은 매개변수의 값이다. 즉 퍼센트론의 매개변수 값에 따라 and, or, nand로 변한다."
      ]
    },
    {
      "cell_type": "markdown",
      "id": "986aaad8",
      "metadata": {
        "id": "986aaad8"
      },
      "source": [
        "## 2.3.1 퍼셉트론 구현(간단한)"
      ]
    },
    {
      "cell_type": "code",
      "execution_count": 1,
      "id": "a6b5d79d",
      "metadata": {
        "id": "a6b5d79d"
      },
      "outputs": [],
      "source": [
        "#AND게이트\n",
        "def AND(x1,x2):\n",
        "  w1,w2,theta=0.5,0.5,0.7\n",
        "  tmp=x1*w1+x2*w2\n",
        "  if tmp<=theta:\n",
        "    return 0\n",
        "  elif tmp>theta:\n",
        "    return 1"
      ]
    },
    {
      "cell_type": "code",
      "execution_count": 2,
      "id": "b13941c4",
      "metadata": {
        "colab": {
          "base_uri": "https://localhost:8080/"
        },
        "id": "b13941c4",
        "outputId": "a8af9f67-bd4d-442f-b53d-80acd7f89b74"
      },
      "outputs": [
        {
          "output_type": "execute_result",
          "data": {
            "text/plain": [
              "(0, 0, 0, 1)"
            ]
          },
          "metadata": {},
          "execution_count": 2
        }
      ],
      "source": [
        "AND(0,0),AND(0,1),AND(1,0),AND(1,1)#AND(1,1)만 1"
      ]
    },
    {
      "cell_type": "markdown",
      "id": "1f887875",
      "metadata": {
        "id": "1f887875"
      },
      "source": [
        "## 2.3.3 가중치와 편향 구현하기"
      ]
    },
    {
      "cell_type": "code",
      "execution_count": 3,
      "id": "410901a4",
      "metadata": {
        "colab": {
          "base_uri": "https://localhost:8080/"
        },
        "id": "410901a4",
        "outputId": "05f3bab8-42e9-4e0b-8031-d45977b6b2dd"
      },
      "outputs": [
        {
          "output_type": "execute_result",
          "data": {
            "text/plain": [
              "array([0. , 0.5])"
            ]
          },
          "metadata": {},
          "execution_count": 3
        }
      ],
      "source": [
        "import numpy as np\n",
        "x=np.array([0,1])\n",
        "w=np.array([0.5,0.5])\n",
        "b=-0.7\n",
        "w*x"
      ]
    },
    {
      "cell_type": "code",
      "execution_count": 4,
      "id": "793e7235",
      "metadata": {
        "colab": {
          "base_uri": "https://localhost:8080/"
        },
        "id": "793e7235",
        "outputId": "bc6955d3-e386-4578-e57d-e80c9e1438cd"
      },
      "outputs": [
        {
          "output_type": "execute_result",
          "data": {
            "text/plain": [
              "0.5"
            ]
          },
          "metadata": {},
          "execution_count": 4
        }
      ],
      "source": [
        "np.sum(w*x)"
      ]
    },
    {
      "cell_type": "code",
      "execution_count": 5,
      "id": "397d3e80",
      "metadata": {
        "colab": {
          "base_uri": "https://localhost:8080/"
        },
        "id": "397d3e80",
        "outputId": "18e68f19-92d6-4dc4-a649-162070281234"
      },
      "outputs": [
        {
          "output_type": "execute_result",
          "data": {
            "text/plain": [
              "-0.19999999999999996"
            ]
          },
          "metadata": {},
          "execution_count": 5
        }
      ],
      "source": [
        "np.sum(w*x)+b"
      ]
    },
    {
      "cell_type": "markdown",
      "id": "ad76740c",
      "metadata": {
        "id": "ad76740c"
      },
      "source": [
        "w1,w2는 각 입력신호가 결과에 주는 영향력(중요도)를 조정하는 매개변수이고, 편향은 뉴런이 얼마나 쉽게 활성화하느냐를 조정하는 매개변수이다.  \n",
        "ex) b=-0.5이면 x1w1+x2w2가 0.5를 넘어야 뉴런이 활성화된다."
      ]
    },
    {
      "cell_type": "code",
      "execution_count": 6,
      "id": "feeeb64e",
      "metadata": {
        "id": "feeeb64e"
      },
      "outputs": [],
      "source": [
        "def AND(x1,x2):\n",
        "  x=np.array([x1,x2])\n",
        "  w=np.array([0.5,0.5])\n",
        "  b=-0.7\n",
        "  tmp=np.sum(x*w)+b\n",
        "  if tmp<=0:\n",
        "    return 0\n",
        "  else:\n",
        "    return 1"
      ]
    },
    {
      "cell_type": "code",
      "execution_count": 7,
      "id": "4bb7f898",
      "metadata": {
        "colab": {
          "base_uri": "https://localhost:8080/"
        },
        "id": "4bb7f898",
        "outputId": "22fbf725-6f42-4298-e568-47e1d5e110d3"
      },
      "outputs": [
        {
          "output_type": "execute_result",
          "data": {
            "text/plain": [
              "0"
            ]
          },
          "metadata": {},
          "execution_count": 7
        }
      ],
      "source": [
        "AND(0,1)#0"
      ]
    },
    {
      "cell_type": "code",
      "execution_count": 8,
      "id": "21707c4f",
      "metadata": {
        "colab": {
          "base_uri": "https://localhost:8080/"
        },
        "id": "21707c4f",
        "outputId": "d43e35c8-6677-4cd3-ad5b-75cdd0795fea"
      },
      "outputs": [
        {
          "output_type": "execute_result",
          "data": {
            "text/plain": [
              "1"
            ]
          },
          "metadata": {},
          "execution_count": 8
        }
      ],
      "source": [
        "AND(1,1)#1"
      ]
    },
    {
      "cell_type": "code",
      "execution_count": 9,
      "id": "7160ce94",
      "metadata": {
        "id": "7160ce94"
      },
      "outputs": [],
      "source": [
        "def NAND(x1,x2):\n",
        "  x=np.array([x1,x2])\n",
        "  w=np.array([-0.5,-0.5])\n",
        "  b=0.7\n",
        "  tmp=np.sum(x*w)+b\n",
        "  if tmp<=0:\n",
        "    return 0\n",
        "  else:\n",
        "    return 1"
      ]
    },
    {
      "cell_type": "code",
      "execution_count": 10,
      "id": "8b9e9a9b",
      "metadata": {
        "id": "8b9e9a9b"
      },
      "outputs": [],
      "source": [
        "def OR(x1,x2):\n",
        "    x=np.array([x1,x2])\n",
        "    w=np.array([0.5,0.5])\n",
        "    b=-0.2\n",
        "    tmp=np.sum(x*w)+b\n",
        "    if tmp<=0:#-0.2일때 0분류, 1-0.2=0.8일때 1로 분류\n",
        "        return 0\n",
        "    else:\n",
        "        return 1"
      ]
    },
    {
      "cell_type": "markdown",
      "id": "c6188590",
      "metadata": {
        "id": "c6188590"
      },
      "source": [
        "## 2.4.1 퍼센트론의 한계(from XOR게이트)"
      ]
    },
    {
      "cell_type": "markdown",
      "id": "36686073",
      "metadata": {
        "id": "36686073"
      },
      "source": [
        "가정: b,w1,w2가 -0.5,1.0,1.0일때  \n",
        "식은 -0.5+x1+x2로 표현되는데 이때 샘플이 각각 (0,0), (0,1), (1,0), (1,1)이라면 선형직선으로 표현하면 퍼셉트론은 직선으로 나뉜 영역에서 4개의 샘플 결과를 다 만족시킬 수 없게 된다.  \n",
        "cf) xor게이트는 배타적 논리합이라는 논리회로->x1,x2중 하나가 1일때만 1출력"
      ]
    },
    {
      "cell_type": "markdown",
      "id": "f8ca4be9",
      "metadata": {
        "id": "f8ca4be9"
      },
      "source": [
        "## 2.4.2 선형과 비선형\n",
        "단층퍼셉트론은 직선 하나로 나눈 영역만 표현할 수 있다는 한계가 있다."
      ]
    },
    {
      "cell_type": "markdown",
      "id": "bc3f3cf6",
      "metadata": {
        "id": "bc3f3cf6"
      },
      "source": [
        "## 2.5.1 다층 퍼셉트론 게이트 조합하기  \n",
        "xor게이트:x1,x2가 각각 (1,0) 아니면 (0,1)일때만 1출력  \n",
        "일반적으로 x1,x2가 입력신호일때, 먼저 NAND&OR게이트를 거친 후, AND게이트의 입력으로 들어가면 XOR게이트가 된다  "
      ]
    },
    {
      "cell_type": "markdown",
      "id": "9ca2b309",
      "metadata": {
        "id": "9ca2b309"
      },
      "source": [
        "## 2.5.2 XOR게이트 구현하기"
      ]
    },
    {
      "cell_type": "code",
      "execution_count": 11,
      "id": "5d32a976",
      "metadata": {
        "id": "5d32a976"
      },
      "outputs": [],
      "source": [
        "def XOR(x1,x2):\n",
        "    s1=NAND(x1,x2)\n",
        "    s2=OR(x1,x2)\n",
        "    y=AND(s1,s2)\n",
        "    return y"
      ]
    },
    {
      "cell_type": "code",
      "execution_count": 12,
      "id": "17159d8c",
      "metadata": {
        "colab": {
          "base_uri": "https://localhost:8080/"
        },
        "id": "17159d8c",
        "outputId": "45e5d2bc-f4dc-400c-e22c-3eecd36ae701"
      },
      "outputs": [
        {
          "output_type": "execute_result",
          "data": {
            "text/plain": [
              "0"
            ]
          },
          "metadata": {},
          "execution_count": 12
        }
      ],
      "source": [
        "XOR(0,0)#0을 출력"
      ]
    },
    {
      "cell_type": "code",
      "execution_count": 13,
      "id": "9899fe66",
      "metadata": {
        "colab": {
          "base_uri": "https://localhost:8080/"
        },
        "id": "9899fe66",
        "outputId": "83dc8e09-940e-4efa-db17-10feb214a410"
      },
      "outputs": [
        {
          "output_type": "execute_result",
          "data": {
            "text/plain": [
              "1"
            ]
          },
          "metadata": {},
          "execution_count": 13
        }
      ],
      "source": [
        "XOR(1,0)#1"
      ]
    },
    {
      "cell_type": "code",
      "execution_count": 14,
      "id": "8415aafa",
      "metadata": {
        "colab": {
          "base_uri": "https://localhost:8080/"
        },
        "id": "8415aafa",
        "outputId": "213501a5-60f7-4239-b9d2-f57c8e263f52"
      },
      "outputs": [
        {
          "output_type": "execute_result",
          "data": {
            "text/plain": [
              "1"
            ]
          },
          "metadata": {},
          "execution_count": 14
        }
      ],
      "source": [
        "XOR(0,1)#1"
      ]
    },
    {
      "cell_type": "code",
      "execution_count": 15,
      "id": "90e72223",
      "metadata": {
        "colab": {
          "base_uri": "https://localhost:8080/"
        },
        "id": "90e72223",
        "outputId": "77f712ef-6b40-400f-a062-52b61d9c1d80"
      },
      "outputs": [
        {
          "output_type": "execute_result",
          "data": {
            "text/plain": [
              "0"
            ]
          },
          "metadata": {},
          "execution_count": 15
        }
      ],
      "source": [
        "XOR(1,1)#0"
      ]
    },
    {
      "cell_type": "markdown",
      "id": "b73b7d31",
      "metadata": {
        "id": "b73b7d31"
      },
      "source": [
        "2층 퍼셉트론은 0층의 두 뉴런이 입력신호를 받아 1층의 뉴런으로 신호를 보낸다  \n",
        "1층의 뉴런이 2층의 뉴런으로 신호를 보내고 2층의 뉴런은 y를 출력한다"
      ]
    }
  ],
  "metadata": {
    "kernelspec": {
      "display_name": "Python 3 (ipykernel)",
      "language": "python",
      "name": "python3"
    },
    "language_info": {
      "codemirror_mode": {
        "name": "ipython",
        "version": 3
      },
      "file_extension": ".py",
      "mimetype": "text/x-python",
      "name": "python",
      "nbconvert_exporter": "python",
      "pygments_lexer": "ipython3",
      "version": "3.9.12"
    },
    "colab": {
      "provenance": []
    }
  },
  "nbformat": 4,
  "nbformat_minor": 5
}