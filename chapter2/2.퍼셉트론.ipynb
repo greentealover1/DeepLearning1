{
 "cells": [
  {
   "cell_type": "markdown",
   "id": "aec43dcd",
   "metadata": {},
   "source": [
    "# 2.1 퍼셉트론이란?"
   ]
  },
  {
   "cell_type": "markdown",
   "id": "ad57fb52",
   "metadata": {},
   "source": [
    "## 퍼셉트론: 다수의 신호를 입력받아 하나의 신호를 출력한다.  \n",
    "ex) x1,x2가 입력신호이며, y가 출력신호, w1,w2가 가중치라고 할때 입력신호가 뉴런에 보내질때는 고유한 가중치가 곱해짐  \n",
    "ex)w1x1,w2x2처럼  \n",
    "이런 뉴런에서 보내온 신호 총합이 정해진 기준점을 넘을때만 1을 출력(한계기준점을 '임계값')이라고 한다  \n",
    "- 퍼센트론은 복수의 입력신호각각에 고유한 가중치를 부여한다. 가중치는 각 신호가 결과에 주는 영향력을 조절하는 요소로 작용"
   ]
  },
  {
   "cell_type": "markdown",
   "id": "001e021c",
   "metadata": {},
   "source": [
    "## 2.2.1 AND게이트  \n",
    "입력이 둘, 출력이 하나라고 가정\n",
    "- and연산에 따라 두개의 입력이 둘다 1일때만 1, 그외에는 0출력 "
   ]
  },
  {
   "cell_type": "markdown",
   "id": "ecb4e826",
   "metadata": {},
   "source": [
    "## 2.2.2 NAND게이트와 OR게이트  \n",
    "not and=NAND 즉, and게이트의 출력을 반대로 한것을 의미"
   ]
  },
  {
   "cell_type": "markdown",
   "id": "634e099c",
   "metadata": {},
   "source": [
    "nand게이트에서 (w1,w2,theta)=(-0.5,-0.5,-0.7)매개변수 조합이 가능.  \n",
    "or게이트에서 (w1,w2,theta)=(0.5,0.5,0.1)매개변수 조합이 가능."
   ]
  },
  {
   "cell_type": "markdown",
   "id": "4cb080ed",
   "metadata": {},
   "source": [
    "### 알 수 있는 점: 게이트에서 다른 것은 매개변수의 값이다. 즉 퍼센트론의 매개변수 값에 따라 and, or, nand로 변한다."
   ]
  },
  {
   "cell_type": "markdown",
   "id": "986aaad8",
   "metadata": {},
   "source": [
    "## 2.3.1 퍼셉트론 구현(간단한)"
   ]
  },
  {
   "cell_type": "code",
   "execution_count": 1,
   "id": "a6b5d79d",
   "metadata": {},
   "outputs": [],
   "source": [
    "#AND게이트\n",
    "def AND(x1,x2):\n",
    "    w1,w2,theta=0.5,0.5,0.7\n",
    "    tmp=x1*w1+x2*w2\n",
    "    if tmp<=theta:\n",
    "        return 0\n",
    "    else:\n",
    "        return 1"
   ]
  },
  {
   "cell_type": "code",
   "execution_count": 2,
   "id": "b13941c4",
   "metadata": {},
   "outputs": [
    {
     "data": {
      "text/plain": [
       "0"
      ]
     },
     "execution_count": 2,
     "metadata": {},
     "output_type": "execute_result"
    }
   ],
   "source": [
    "AND(0,0)#0을 출력"
   ]
  },
  {
   "cell_type": "code",
   "execution_count": 3,
   "id": "475ca6a2",
   "metadata": {},
   "outputs": [
    {
     "data": {
      "text/plain": [
       "0"
      ]
     },
     "execution_count": 3,
     "metadata": {},
     "output_type": "execute_result"
    }
   ],
   "source": [
    "AND(0,1)#0출력"
   ]
  },
  {
   "cell_type": "code",
   "execution_count": 4,
   "id": "d05bb8a4",
   "metadata": {},
   "outputs": [
    {
     "data": {
      "text/plain": [
       "0"
      ]
     },
     "execution_count": 4,
     "metadata": {},
     "output_type": "execute_result"
    }
   ],
   "source": [
    "AND(1,0)#0출력"
   ]
  },
  {
   "cell_type": "code",
   "execution_count": 5,
   "id": "9441fb35",
   "metadata": {},
   "outputs": [
    {
     "data": {
      "text/plain": [
       "1"
      ]
     },
     "execution_count": 5,
     "metadata": {},
     "output_type": "execute_result"
    }
   ],
   "source": [
    "AND(1,1)#1출력"
   ]
  },
  {
   "cell_type": "markdown",
   "id": "1f887875",
   "metadata": {},
   "source": [
    "## 2.3.3 가중치와 편향 구현하기"
   ]
  },
  {
   "cell_type": "code",
   "execution_count": 6,
   "id": "410901a4",
   "metadata": {},
   "outputs": [
    {
     "data": {
      "text/plain": [
       "array([0. , 0.5])"
      ]
     },
     "execution_count": 6,
     "metadata": {},
     "output_type": "execute_result"
    }
   ],
   "source": [
    "import numpy as np\n",
    "x=np.array([0,1])\n",
    "w=np.array([0.5,0.5])\n",
    "b=-0.7\n",
    "w*x"
   ]
  },
  {
   "cell_type": "code",
   "execution_count": 7,
   "id": "793e7235",
   "metadata": {},
   "outputs": [
    {
     "data": {
      "text/plain": [
       "0.5"
      ]
     },
     "execution_count": 7,
     "metadata": {},
     "output_type": "execute_result"
    }
   ],
   "source": [
    "np.sum(w*x)"
   ]
  },
  {
   "cell_type": "code",
   "execution_count": 8,
   "id": "397d3e80",
   "metadata": {},
   "outputs": [
    {
     "data": {
      "text/plain": [
       "-0.19999999999999996"
      ]
     },
     "execution_count": 8,
     "metadata": {},
     "output_type": "execute_result"
    }
   ],
   "source": [
    "np.sum(w*x)+b"
   ]
  },
  {
   "cell_type": "markdown",
   "id": "ad76740c",
   "metadata": {},
   "source": [
    "w1,w2는 각 입력신호가 결과에 주는 영향력(중요도)를 조정하는 매개변수이고, 편향은 뉴런이 얼마나 쉽게 활성화하느냐를 조정하는 매개변수이다.  \n",
    "ex) b=-0.5이면 x1w1+x2w2가 0.5를 넘어야 뉴런이 활성화된다."
   ]
  },
  {
   "cell_type": "code",
   "execution_count": 9,
   "id": "feeeb64e",
   "metadata": {},
   "outputs": [],
   "source": [
    "def AND(x1,x2):\n",
    "    x=np.array([x1,x2])\n",
    "    w=np.array([0.5,0.5])\n",
    "    b=-0.7\n",
    "    tmp=np.sum(x*w)+b\n",
    "    if tmp<=0:\n",
    "        return 0\n",
    "    else:\n",
    "        return 1"
   ]
  },
  {
   "cell_type": "code",
   "execution_count": 10,
   "id": "4bb7f898",
   "metadata": {},
   "outputs": [
    {
     "data": {
      "text/plain": [
       "0"
      ]
     },
     "execution_count": 10,
     "metadata": {},
     "output_type": "execute_result"
    }
   ],
   "source": [
    "AND(0,1)#0"
   ]
  },
  {
   "cell_type": "code",
   "execution_count": 11,
   "id": "21707c4f",
   "metadata": {},
   "outputs": [
    {
     "data": {
      "text/plain": [
       "1"
      ]
     },
     "execution_count": 11,
     "metadata": {},
     "output_type": "execute_result"
    }
   ],
   "source": [
    "AND(1,1)#1"
   ]
  },
  {
   "cell_type": "code",
   "execution_count": 12,
   "id": "7160ce94",
   "metadata": {},
   "outputs": [],
   "source": [
    "def NAND(x1,x2):\n",
    "    x=np.array([x1,x2])\n",
    "    w=np.array([-0.5,-0.5])\n",
    "    b=0.7\n",
    "    tmp=np.sum(x*w)+b\n",
    "    if tmp<=0:\n",
    "        return 0\n",
    "    else:\n",
    "        return 1"
   ]
  },
  {
   "cell_type": "code",
   "execution_count": 13,
   "id": "8b9e9a9b",
   "metadata": {},
   "outputs": [],
   "source": [
    "def OR(x1,x2):\n",
    "    x=np.array([x1,x2])\n",
    "    w=np.array([0.5,0.5])\n",
    "    b=-0.2\n",
    "    tmp=np.sum(x*w)+b\n",
    "    if tmp<=0:#-0.2일때 0분류, 1-0.2=0.8일때 1로 분류\n",
    "        return 0\n",
    "    else:\n",
    "        return 1"
   ]
  },
  {
   "cell_type": "markdown",
   "id": "c6188590",
   "metadata": {},
   "source": [
    "## 2.4.1 퍼센트론의 한계(from XOR게이트)"
   ]
  },
  {
   "cell_type": "markdown",
   "id": "36686073",
   "metadata": {},
   "source": [
    "가정: b,w1,w2가 -0.5,1.0,1.0일때  \n",
    "식은 -0.5+x1+x2로 표현되는데 이때 샘플이 각각 (0,0), (0,1), (1,0), (1,1)이라면 선형직선으로 표현하면 퍼셉트론은 직선으로 나뉜 영역에서 4개의 샘플 중 3개만 맞출 수 있게 된다.  \n",
    "cf) xor게이트는 배타적 논리합이라는 논리회로->x1,x2중 하나가 1일때만 1출력"
   ]
  },
  {
   "cell_type": "markdown",
   "id": "f8ca4be9",
   "metadata": {},
   "source": [
    "## 2.4.2 선형과 비선형\n",
    "단층퍼셉트론은 직선 하나로 나눈 영역만 표현할 수 있다는 한계가 있다."
   ]
  },
  {
   "cell_type": "markdown",
   "id": "bc3f3cf6",
   "metadata": {},
   "source": [
    "## 2.5.1 다층 퍼셉트론 게이트 조합하기  \n",
    "xor게이트:x1,x2가 각각 (1,0) 아니면 (0,1)일때만 1출력  \n",
    "일반적으로 x1,x2가 입력신호일때, 먼저 NAND&OR게이트를 거친 후, AND게이트의 입력으로 들어가면 XOR게이트가 된다  "
   ]
  },
  {
   "cell_type": "markdown",
   "id": "9ca2b309",
   "metadata": {},
   "source": [
    "## 2.5.2 XOR게이트 구현하기"
   ]
  },
  {
   "cell_type": "code",
   "execution_count": 14,
   "id": "5d32a976",
   "metadata": {},
   "outputs": [],
   "source": [
    "def XOR(x1,x2):\n",
    "    s1=NAND(x1,x2)\n",
    "    s2=OR(x1,x2)\n",
    "    y=AND(s1,s2)\n",
    "    return y"
   ]
  },
  {
   "cell_type": "code",
   "execution_count": 15,
   "id": "17159d8c",
   "metadata": {},
   "outputs": [
    {
     "data": {
      "text/plain": [
       "0"
      ]
     },
     "execution_count": 15,
     "metadata": {},
     "output_type": "execute_result"
    }
   ],
   "source": [
    "XOR(0,0)#0을 출력"
   ]
  },
  {
   "cell_type": "code",
   "execution_count": 16,
   "id": "9899fe66",
   "metadata": {},
   "outputs": [
    {
     "data": {
      "text/plain": [
       "1"
      ]
     },
     "execution_count": 16,
     "metadata": {},
     "output_type": "execute_result"
    }
   ],
   "source": [
    "XOR(1,0)#1"
   ]
  },
  {
   "cell_type": "code",
   "execution_count": 17,
   "id": "8415aafa",
   "metadata": {},
   "outputs": [
    {
     "data": {
      "text/plain": [
       "1"
      ]
     },
     "execution_count": 17,
     "metadata": {},
     "output_type": "execute_result"
    }
   ],
   "source": [
    "XOR(0,1)#1"
   ]
  },
  {
   "cell_type": "code",
   "execution_count": 18,
   "id": "90e72223",
   "metadata": {},
   "outputs": [
    {
     "data": {
      "text/plain": [
       "0"
      ]
     },
     "execution_count": 18,
     "metadata": {},
     "output_type": "execute_result"
    }
   ],
   "source": [
    "XOR(1,1)#0"
   ]
  },
  {
   "cell_type": "markdown",
   "id": "b73b7d31",
   "metadata": {},
   "source": [
    "2층 퍼셉트론은 0층의 두 뉴런이 입력신호를 받아 1층의 뉴런으로 신호를 보낸다  \n",
    "1층의 뉴런이 2층의 뉴런으로 신호를 보내고 2층의 뉴런은 y를 출력한다"
   ]
  }
 ],
 "metadata": {
  "kernelspec": {
   "display_name": "Python 3 (ipykernel)",
   "language": "python",
   "name": "python3"
  },
  "language_info": {
   "codemirror_mode": {
    "name": "ipython",
    "version": 3
   },
   "file_extension": ".py",
   "mimetype": "text/x-python",
   "name": "python",
   "nbconvert_exporter": "python",
   "pygments_lexer": "ipython3",
   "version": "3.9.12"
  }
 },
 "nbformat": 4,
 "nbformat_minor": 5
}
