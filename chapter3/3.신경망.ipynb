{
 "cells": [
  {
   "cell_type": "markdown",
   "id": "14f62228",
   "metadata": {},
   "source": [
    "## 3.1.1 신경망의 예  \n",
    "입력층, 은닉층, 출력층으로 구성됨.\n",
    "ex) y=b+w1*x1+w2*x2 값이 0이하면 0, 0초과이면 1로 분류  \n",
    "b=편향, 뉴런이 얼마나 쉽게 활성화되느냐를 제어한다.  \n",
    "w1,w2는 각 신호의 가중치를 나타내는 매개변수로 각 신호의 영향력을 제어한다.  "
   ]
  },
  {
   "cell_type": "markdown",
   "id": "4f8dbc3b",
   "metadata": {},
   "source": [
    "## 3.1.2 퍼셉트론 복습"
   ]
  },
  {
   "cell_type": "markdown",
   "id": "3b84a839",
   "metadata": {},
   "source": [
    "위와 같은 예제에서 가중치가 b이고 입력이 1인 뉴런이 추가되었을때, x1,x2,1이라는 3개 신호가 뉴런에 입력됨  \n",
    "각 신호에 가중치를 곱한 후, 다음 뉴런에 전달된다.  \n",
    "다음 뉴런에서는 이 신호들의 값을 더하여 그 합이 0을 넘으면 1출력, 그렇지 않으면 0출력."
   ]
  },
  {
   "cell_type": "markdown",
   "id": "4112dae9",
   "metadata": {},
   "source": [
    "## 3.1.3 활성화함수의 등장  \n",
    "입력신호의 총합을 출력신호로 변환하는 함수=활성화함수  \n",
    "a=b+w1*x1+w2*x2  \n",
    "1,x1,x2는 입력노드,b는 가중치,a는 은닉노드,h()활성화함수를 통해 y라는 출력노드 생성됨  "
   ]
  },
  {
   "cell_type": "markdown",
   "id": "510e5054",
   "metadata": {},
   "source": [
    "## 3.2.1 활성화함수(시그모이드 함수)"
   ]
  },
  {
   "cell_type": "code",
   "execution_count": 1,
   "id": "4cfcfe2e",
   "metadata": {},
   "outputs": [
    {
     "data": {
      "text/plain": [
       "0.8807970779778823"
      ]
     },
     "execution_count": 1,
     "metadata": {},
     "output_type": "execute_result"
    }
   ],
   "source": [
    "import math\n",
    "def h(x):\n",
    "    return 1/(1+math.exp(-x))\n",
    "h(2.0)"
   ]
  },
  {
   "cell_type": "markdown",
   "id": "dfa511ae",
   "metadata": {},
   "source": [
    "신경망에서는 활성화함수로 시그모이드 함수를 이용하여 신호를 변환하고 그 변환된 신호를 다음 뉴런에 전달한다."
   ]
  },
  {
   "cell_type": "markdown",
   "id": "4eb439e1",
   "metadata": {},
   "source": [
    "## 3.2.2 계단함수 구현하기"
   ]
  },
  {
   "cell_type": "code",
   "execution_count": 2,
   "id": "6ded3f25",
   "metadata": {},
   "outputs": [],
   "source": [
    "def step_function(x):\n",
    "    if x>0:\n",
    "        return 1\n",
    "    else:\n",
    "        return 0"
   ]
  },
  {
   "cell_type": "code",
   "execution_count": 3,
   "id": "520b2507",
   "metadata": {},
   "outputs": [],
   "source": [
    "import numpy as np\n",
    "def step_function(x):\n",
    "    y=x>0\n",
    "    return y.astype(np.int)"
   ]
  },
  {
   "cell_type": "code",
   "execution_count": 4,
   "id": "e023af9e",
   "metadata": {},
   "outputs": [
    {
     "data": {
      "text/plain": [
       "array([-1.,  1.,  2.])"
      ]
     },
     "execution_count": 4,
     "metadata": {},
     "output_type": "execute_result"
    }
   ],
   "source": [
    "import numpy as np\n",
    "x=np.array([-1.0,1.0,2.0])\n",
    "x"
   ]
  },
  {
   "cell_type": "code",
   "execution_count": 5,
   "id": "cd495e72",
   "metadata": {},
   "outputs": [
    {
     "data": {
      "text/plain": [
       "array([False,  True,  True])"
      ]
     },
     "execution_count": 5,
     "metadata": {},
     "output_type": "execute_result"
    }
   ],
   "source": [
    "y=x>0#넘파이 배열에 부등호 연산을 수행하면 배열의 원소 각각에 부등호 연산을 수행한 bool배열을 생성\n",
    "y"
   ]
  },
  {
   "cell_type": "code",
   "execution_count": 6,
   "id": "8612ce6a",
   "metadata": {},
   "outputs": [
    {
     "name": "stderr",
     "output_type": "stream",
     "text": [
      "C:\\Users\\a0103\\AppData\\Local\\Temp\\ipykernel_10212\\1696763381.py:1: DeprecationWarning: `np.int` is a deprecated alias for the builtin `int`. To silence this warning, use `int` by itself. Doing this will not modify any behavior and is safe. When replacing `np.int`, you may wish to use e.g. `np.int64` or `np.int32` to specify the precision. If you wish to review your current use, check the release note link for additional information.\n",
      "Deprecated in NumPy 1.20; for more details and guidance: https://numpy.org/devdocs/release/1.20.0-notes.html#deprecations\n",
      "  y=y.astype(np.int)#astype():넘파이 배열의 자료형을 변환\n"
     ]
    },
    {
     "data": {
      "text/plain": [
       "array([0, 1, 1])"
      ]
     },
     "execution_count": 6,
     "metadata": {},
     "output_type": "execute_result"
    }
   ],
   "source": [
    "y=y.astype(np.int)#astype():넘파이 배열의 자료형을 변환\n",
    "y"
   ]
  },
  {
   "cell_type": "markdown",
   "id": "e6b3dc22",
   "metadata": {},
   "source": [
    "## 3.2.3 계단함수 그래프"
   ]
  },
  {
   "cell_type": "code",
   "execution_count": 7,
   "id": "aba027f0",
   "metadata": {},
   "outputs": [
    {
     "name": "stderr",
     "output_type": "stream",
     "text": [
      "C:\\Users\\a0103\\AppData\\Local\\Temp\\ipykernel_10212\\406425195.py:4: DeprecationWarning: `np.int` is a deprecated alias for the builtin `int`. To silence this warning, use `int` by itself. Doing this will not modify any behavior and is safe. When replacing `np.int`, you may wish to use e.g. `np.int64` or `np.int32` to specify the precision. If you wish to review your current use, check the release note link for additional information.\n",
      "Deprecated in NumPy 1.20; for more details and guidance: https://numpy.org/devdocs/release/1.20.0-notes.html#deprecations\n",
      "  return np.array(x>0,dtype=np.int)\n"
     ]
    },
    {
     "data": {
      "image/png": "[encoded data removed]",
      "text/plain": [
       "<Figure size 432x288 with 1 Axes>"
      ]
     },
     "metadata": {
      "needs_background": "light"
     },
     "output_type": "display_data"
    }
   ],
   "source": [
    "import numpy as np\n",
    "import matplotlib.pyplot as plt\n",
    "def step_function(x):#step function은 인수로 받은 넘파이배열의 각 원소들을 인수로 계단함수를 실행해서 결과를 배열로 반환\n",
    "    return np.array(x>0,dtype=np.int)\n",
    "x=np.arange(-5.0,5.0,0.1)\n",
    "y=step_function(x)\n",
    "plt.plot(x,y)\n",
    "plt.ylim(-0.1,1.1)\n",
    "plt.show()"
   ]
  },
  {
   "cell_type": "markdown",
   "id": "742038a4",
   "metadata": {},
   "source": [
    "## 3.2.4 시그모이드 함수 구현하기"
   ]
  },
  {
   "cell_type": "code",
   "execution_count": 8,
   "id": "819ac7fe",
   "metadata": {},
   "outputs": [],
   "source": [
    "def sigmoid(x):\n",
    "    return 1/(1+np.exp(-x))"
   ]
  },
  {
   "cell_type": "code",
   "execution_count": 9,
   "id": "d1409faa",
   "metadata": {},
   "outputs": [
    {
     "data": {
      "text/plain": [
       "array([0.26894142, 0.73105858, 0.88079708])"
      ]
     },
     "execution_count": 9,
     "metadata": {},
     "output_type": "execute_result"
    }
   ],
   "source": [
    "x=np.array([-1.0,1.0,2.0])#브로드캐스트 기능(넘파이 배열과 스칼라값의 연산을 넘파이 배열의 원소각각과 스칼라값의 연산으로 변환)\n",
    "sigmoid(x)"
   ]
  },
  {
   "cell_type": "code",
   "execution_count": 10,
   "id": "0b4eeb73",
   "metadata": {},
   "outputs": [
    {
     "data": {
      "text/plain": [
       "array([2., 3., 4.])"
      ]
     },
     "execution_count": 10,
     "metadata": {},
     "output_type": "execute_result"
    }
   ],
   "source": [
    "t=np.array([1.0,2.0,3.0])\n",
    "1.0+t"
   ]
  },
  {
   "cell_type": "code",
   "execution_count": 11,
   "id": "9545e7db",
   "metadata": {},
   "outputs": [
    {
     "data": {
      "text/plain": [
       "array([1.        , 0.5       , 0.33333333])"
      ]
     },
     "execution_count": 11,
     "metadata": {},
     "output_type": "execute_result"
    }
   ],
   "source": [
    "1.0/t"
   ]
  },
  {
   "cell_type": "code",
   "execution_count": 12,
   "id": "e5649be9",
   "metadata": {},
   "outputs": [
    {
     "data": {
      "image/png": "[encoded data removed]",
      "text/plain": [
       "<Figure size 432x288 with 1 Axes>"
      ]
     },
     "metadata": {
      "needs_background": "light"
     },
     "output_type": "display_data"
    }
   ],
   "source": [
    "x=np.arange(-5.0,5.0,0.1)\n",
    "y=sigmoid(x)\n",
    "plt.plot(x,y)\n",
    "plt.ylim(-0.1,1.1)#y축 범위 지정\n",
    "plt.show()"
   ]
  },
  {
   "cell_type": "markdown",
   "id": "17632dc2",
   "metadata": {},
   "source": [
    "시그모이드와 계단함수의 차이:시그모이드는 실수값 반환, 계단함수는 0 또는 1값 중 하나이다.  \n",
    "공통점: 출력이 0~1사이이다."
   ]
  },
  {
   "cell_type": "markdown",
   "id": "582839ed",
   "metadata": {},
   "source": [
    "## 3.2.6 비선형 함수\n",
    "시그모이드 함수는 곡선, 계단함수는 구부러진 직선 모양의 비선형 함수이다."
   ]
  },
  {
   "cell_type": "markdown",
   "id": "cdaa6a75",
   "metadata": {},
   "source": [
    "## 3.2.7 ReLU함수  \n",
    "relu함수는 입력이 0을 넘으면 입력을 그대로 출력하고, 0이하이면 0을 출력하는 함수이다."
   ]
  },
  {
   "cell_type": "code",
   "execution_count": 13,
   "id": "9dd6b1bd",
   "metadata": {},
   "outputs": [],
   "source": [
    "def relu(x):\n",
    "    return np.maximum(0,x)"
   ]
  },
  {
   "cell_type": "markdown",
   "id": "61b052ad",
   "metadata": {},
   "source": [
    "## 3.3.1 다차원 배열\n",
    "숫자의 집합을 배열이라고 한다.  \n",
    "N차원으로 확장한 배열=다차원 배열"
   ]
  },
  {
   "cell_type": "code",
   "execution_count": 14,
   "id": "e7c9f982",
   "metadata": {},
   "outputs": [
    {
     "name": "stdout",
     "output_type": "stream",
     "text": [
      "[1 2 3 4]\n"
     ]
    }
   ],
   "source": [
    "import numpy as np\n",
    "A=np.array([1,2,3,4])\n",
    "print(A)"
   ]
  },
  {
   "cell_type": "code",
   "execution_count": 15,
   "id": "ee1f2725",
   "metadata": {},
   "outputs": [
    {
     "data": {
      "text/plain": [
       "1"
      ]
     },
     "execution_count": 15,
     "metadata": {},
     "output_type": "execute_result"
    }
   ],
   "source": [
    "np.ndim(A)#배열의 차원"
   ]
  },
  {
   "cell_type": "code",
   "execution_count": 16,
   "id": "30557b59",
   "metadata": {},
   "outputs": [
    {
     "data": {
      "text/plain": [
       "(4,)"
      ]
     },
     "execution_count": 16,
     "metadata": {},
     "output_type": "execute_result"
    }
   ],
   "source": [
    "A.shape#배열 요소4개"
   ]
  },
  {
   "cell_type": "code",
   "execution_count": 17,
   "id": "39a17b84",
   "metadata": {},
   "outputs": [
    {
     "data": {
      "text/plain": [
       "4"
      ]
     },
     "execution_count": 17,
     "metadata": {},
     "output_type": "execute_result"
    }
   ],
   "source": [
    "A.shape[0]#배열shape에서 0번째 인덱스"
   ]
  },
  {
   "cell_type": "code",
   "execution_count": 18,
   "id": "41f5055c",
   "metadata": {},
   "outputs": [
    {
     "name": "stdout",
     "output_type": "stream",
     "text": [
      "[[1 2]\n",
      " [3 4]\n",
      " [5 6]]\n"
     ]
    }
   ],
   "source": [
    "B=np.array([[1,2],[3,4],[5,6]])\n",
    "print(B)"
   ]
  },
  {
   "cell_type": "code",
   "execution_count": 19,
   "id": "2228e635",
   "metadata": {},
   "outputs": [
    {
     "data": {
      "text/plain": [
       "2"
      ]
     },
     "execution_count": 19,
     "metadata": {},
     "output_type": "execute_result"
    }
   ],
   "source": [
    "np.ndim(B)#2차원 배열-행렬"
   ]
  },
  {
   "cell_type": "code",
   "execution_count": 20,
   "id": "538ac0fd",
   "metadata": {},
   "outputs": [
    {
     "data": {
      "text/plain": [
       "(3, 2)"
      ]
     },
     "execution_count": 20,
     "metadata": {},
     "output_type": "execute_result"
    }
   ],
   "source": [
    "B.shape#(3,2)"
   ]
  },
  {
   "cell_type": "markdown",
   "id": "75e848f4",
   "metadata": {},
   "source": [
    "## 3.3.2 행렬의 곱 \n",
    "np.dot은 입력이 1차원 배열이면 벡터, 2차원 배열이면 행렬곱 계산"
   ]
  },
  {
   "cell_type": "code",
   "execution_count": 21,
   "id": "19bfa72e",
   "metadata": {},
   "outputs": [
    {
     "data": {
      "text/plain": [
       "(2, 2)"
      ]
     },
     "execution_count": 21,
     "metadata": {},
     "output_type": "execute_result"
    }
   ],
   "source": [
    "A=np.array([[1,2],[3,4]])\n",
    "A.shape#(2,2)"
   ]
  },
  {
   "cell_type": "code",
   "execution_count": 22,
   "id": "ddd17ea5",
   "metadata": {},
   "outputs": [
    {
     "data": {
      "text/plain": [
       "(2, 2)"
      ]
     },
     "execution_count": 22,
     "metadata": {},
     "output_type": "execute_result"
    }
   ],
   "source": [
    "B=np.array([[5,6],[7,8]])\n",
    "B.shape#(2,2)"
   ]
  },
  {
   "cell_type": "code",
   "execution_count": 23,
   "id": "8874e02e",
   "metadata": {},
   "outputs": [
    {
     "data": {
      "text/plain": [
       "array([[19, 22],\n",
       "       [43, 50]])"
      ]
     },
     "execution_count": 23,
     "metadata": {},
     "output_type": "execute_result"
    }
   ],
   "source": [
    "np.dot(A,B)#내적"
   ]
  },
  {
   "cell_type": "markdown",
   "id": "d7316c79",
   "metadata": {},
   "source": [
    "np.dot(A,B)와 np.dot(B,A)는 다른 값이 될 수 있음  \n",
    "cf)행렬의 곱은 행렬의 shape형상을 주의한다. 정확히는 행렬 A의 열의 수,행렬 B의 행의 수가 같아야 한다.  \n",
    "cf)다차원 배열을 곱하려면, 두 행렬의 대응하는 차원의 원소 수를 일치시켜야 한다."
   ]
  },
  {
   "cell_type": "code",
   "execution_count": 24,
   "id": "fc9d666c",
   "metadata": {},
   "outputs": [
    {
     "data": {
      "text/plain": [
       "(2, 3)"
      ]
     },
     "execution_count": 24,
     "metadata": {},
     "output_type": "execute_result"
    }
   ],
   "source": [
    "A=np.array([[1,2,3],[4,5,6]])\n",
    "A.shape"
   ]
  },
  {
   "cell_type": "code",
   "execution_count": 25,
   "id": "14d56751",
   "metadata": {},
   "outputs": [
    {
     "data": {
      "text/plain": [
       "(3, 2)"
      ]
     },
     "execution_count": 25,
     "metadata": {},
     "output_type": "execute_result"
    }
   ],
   "source": [
    "B=np.array([[1,2],[3,4],[5,6]])\n",
    "B.shape"
   ]
  },
  {
   "cell_type": "code",
   "execution_count": 26,
   "id": "b1053639",
   "metadata": {},
   "outputs": [
    {
     "data": {
      "text/plain": [
       "array([[22, 28],\n",
       "       [49, 64]])"
      ]
     },
     "execution_count": 26,
     "metadata": {},
     "output_type": "execute_result"
    }
   ],
   "source": [
    "np.dot(A,B)"
   ]
  },
  {
   "cell_type": "code",
   "execution_count": 27,
   "id": "05a80e40",
   "metadata": {},
   "outputs": [
    {
     "data": {
      "text/plain": [
       "(2, 2)"
      ]
     },
     "execution_count": 27,
     "metadata": {},
     "output_type": "execute_result"
    }
   ],
   "source": [
    "C=np.array([[1,2],[3,4]])\n",
    "C.shape"
   ]
  },
  {
   "cell_type": "code",
   "execution_count": 28,
   "id": "6239fab6",
   "metadata": {},
   "outputs": [
    {
     "data": {
      "text/plain": [
       "(2, 3)"
      ]
     },
     "execution_count": 28,
     "metadata": {},
     "output_type": "execute_result"
    }
   ],
   "source": [
    "A.shape"
   ]
  },
  {
   "cell_type": "code",
   "execution_count": 29,
   "id": "f1811537",
   "metadata": {},
   "outputs": [
    {
     "ename": "ValueError",
     "evalue": "shapes (2,3) and (2,2) not aligned: 3 (dim 1) != 2 (dim 0)",
     "output_type": "error",
     "traceback": [
      "\u001b[1;31m---------------------------------------------------------------------------\u001b[0m",
      "\u001b[1;31mValueError\u001b[0m                                Traceback (most recent call last)",
      "Input \u001b[1;32mIn [29]\u001b[0m, in \u001b[0;36m<cell line: 1>\u001b[1;34m()\u001b[0m\n\u001b[1;32m----> 1\u001b[0m \u001b[43mnp\u001b[49m\u001b[38;5;241;43m.\u001b[39;49m\u001b[43mdot\u001b[49m\u001b[43m(\u001b[49m\u001b[43mA\u001b[49m\u001b[43m,\u001b[49m\u001b[43mC\u001b[49m\u001b[43m)\u001b[49m\n",
      "File \u001b[1;32m<__array_function__ internals>:5\u001b[0m, in \u001b[0;36mdot\u001b[1;34m(*args, **kwargs)\u001b[0m\n",
      "\u001b[1;31mValueError\u001b[0m: shapes (2,3) and (2,2) not aligned: 3 (dim 1) != 2 (dim 0)"
     ]
    }
   ],
   "source": [
    "np.dot(A,C)#잘못된 예시! 차원의 원소 수를 일치시켜야 한다!"
   ]
  },
  {
   "cell_type": "code",
   "execution_count": 29,
   "id": "0d188da1",
   "metadata": {},
   "outputs": [
    {
     "data": {
      "text/plain": [
       "(3, 2)"
      ]
     },
     "execution_count": 29,
     "metadata": {},
     "output_type": "execute_result"
    }
   ],
   "source": [
    "A=np.array([[1,2],[3,4],[5,6]])\n",
    "A.shape"
   ]
  },
  {
   "cell_type": "code",
   "execution_count": 30,
   "id": "47d51eea",
   "metadata": {},
   "outputs": [
    {
     "data": {
      "text/plain": [
       "(2,)"
      ]
     },
     "execution_count": 30,
     "metadata": {},
     "output_type": "execute_result"
    }
   ],
   "source": [
    "B=np.array([7,8])\n",
    "B.shape"
   ]
  },
  {
   "cell_type": "code",
   "execution_count": 31,
   "id": "56481ae5",
   "metadata": {},
   "outputs": [
    {
     "data": {
      "text/plain": [
       "array([23, 53, 83])"
      ]
     },
     "execution_count": 31,
     "metadata": {},
     "output_type": "execute_result"
    }
   ],
   "source": [
    "np.dot(A,B)"
   ]
  },
  {
   "cell_type": "markdown",
   "id": "389b8d09",
   "metadata": {},
   "source": [
    "## 3.3.3 신경망에서의 행렬 곱"
   ]
  },
  {
   "cell_type": "code",
   "execution_count": 32,
   "id": "92c3be9e",
   "metadata": {},
   "outputs": [
    {
     "data": {
      "text/plain": [
       "(2,)"
      ]
     },
     "execution_count": 32,
     "metadata": {},
     "output_type": "execute_result"
    }
   ],
   "source": [
    "X=np.array([1,2])\n",
    "X.shape"
   ]
  },
  {
   "cell_type": "code",
   "execution_count": 33,
   "id": "d07e9e81",
   "metadata": {},
   "outputs": [
    {
     "name": "stdout",
     "output_type": "stream",
     "text": [
      "[[1 3 5]\n",
      " [2 4 6]]\n"
     ]
    }
   ],
   "source": [
    "W=np.array([[1,3,5],[2,4,6]])\n",
    "print(W)"
   ]
  },
  {
   "cell_type": "code",
   "execution_count": 34,
   "id": "79021159",
   "metadata": {},
   "outputs": [
    {
     "data": {
      "text/plain": [
       "(2, 3)"
      ]
     },
     "execution_count": 34,
     "metadata": {},
     "output_type": "execute_result"
    }
   ],
   "source": [
    "W.shape"
   ]
  },
  {
   "cell_type": "code",
   "execution_count": 35,
   "id": "379f8d7d",
   "metadata": {},
   "outputs": [
    {
     "name": "stdout",
     "output_type": "stream",
     "text": [
      "[ 5 11 17]\n"
     ]
    }
   ],
   "source": [
    "Y=np.dot(X,W)\n",
    "print(Y)"
   ]
  },
  {
   "cell_type": "markdown",
   "id": "bfcc7bb7",
   "metadata": {},
   "source": [
    "## 3.4 3층 신경망 구현하기\n",
    "3층 신경망에서 수행되는 순방향 처리 구현  \n",
    "가정)입력층(0층)2개, 첫번째 은닉층(1층)은 3개, 두번째 은닉층(2층)은 2개, 출력층(3층)은 2개의 뉴런으로 구성된다.  \n",
    "cf)가중치의 오른쪽 아래 두 숫자는 차례로 다음 층 뉴런과 앞 층 뉴런의 인덱스 번호이다."
   ]
  },
  {
   "cell_type": "markdown",
   "id": "ac3dc566",
   "metadata": {},
   "source": [
    "## 3.4.2 각 층의 신호전달 구현하기"
   ]
  },
  {
   "cell_type": "code",
   "execution_count": 38,
   "id": "0ec88668",
   "metadata": {},
   "outputs": [
    {
     "name": "stdout",
     "output_type": "stream",
     "text": [
      "(2, 3)\n",
      "(2,)\n",
      "(3,)\n"
     ]
    }
   ],
   "source": [
    "X=np.array([1.0,0.5])\n",
    "W1=np.array([[0.1,0.3,0.5],[0.2,0.4,0.6]])\n",
    "B1=np.array([0.1,0.2,0.3])\n",
    "print(W1.shape)#(2,3)\n",
    "print(X.shape)#(2,)\n",
    "print(B1.shape)#(3,)\n",
    "A1=np.dot(X,W1)+B1"
   ]
  },
  {
   "cell_type": "code",
   "execution_count": 39,
   "id": "eb506f81",
   "metadata": {},
   "outputs": [
    {
     "name": "stdout",
     "output_type": "stream",
     "text": [
      "[0.3 0.7 1.1]\n",
      "[0.57444252 0.66818777 0.75026011]\n"
     ]
    }
   ],
   "source": [
    "Z1=sigmoid(A1)#입력층에서 1층 은닉층의 첫번째 노드를 거친 신호값을 활성화함수에 넣기\n",
    "print(A1)\n",
    "print(Z1)"
   ]
  },
  {
   "cell_type": "markdown",
   "id": "760cdc9f",
   "metadata": {},
   "source": [
    "은닉층에서의 가중치 합(가중신호와 편향의 총합)을 a로 표기->활성화함수h()로 변환된 신호를 z로 표기"
   ]
  },
  {
   "cell_type": "markdown",
   "id": "7867b185",
   "metadata": {},
   "source": [
    "#### 입력층에서 첫번째 은닉층의 첫번째 노드에서 두번째 은닉층까지의 신호전달(1층에서 2층으로 신호전달과정)"
   ]
  },
  {
   "cell_type": "code",
   "execution_count": 40,
   "id": "07d5ac76",
   "metadata": {},
   "outputs": [
    {
     "name": "stdout",
     "output_type": "stream",
     "text": [
      "(3,)\n",
      "(3, 2)\n",
      "(2,)\n"
     ]
    }
   ],
   "source": [
    "W2=np.array([[0.1,0.4],[0.2,0.5],[0.3,0.6]])\n",
    "B2=np.array([0.1,0.2])\n",
    "print(Z1.shape)\n",
    "print(W2.shape)\n",
    "print(B2.shape)\n",
    "A2=np.dot(Z1,W2)\n",
    "Z2=sigmoid(A2)"
   ]
  },
  {
   "cell_type": "markdown",
   "id": "80fe2a4a",
   "metadata": {},
   "source": [
    "#### 2층에서 출력층으로의 신호전달"
   ]
  },
  {
   "cell_type": "code",
   "execution_count": 41,
   "id": "11e7a1c0",
   "metadata": {},
   "outputs": [
    {
     "name": "stdout",
     "output_type": "stream",
     "text": [
      "[0.3070179  0.67429219]\n"
     ]
    }
   ],
   "source": [
    "def identity_function(x):\n",
    "    return x\n",
    "W3=np.array([[0.1,0.3],[0.2,0.4]])\n",
    "B3=np.array([0.1,0.2])\n",
    "A3=np.dot(Z2,W3)+B3\n",
    "Y=identity_function(A3)#Y=A3와 동일\n",
    "print(Y)"
   ]
  },
  {
   "cell_type": "markdown",
   "id": "a5f1ebbc",
   "metadata": {},
   "source": [
    "## 3.4.3 구현정리"
   ]
  },
  {
   "cell_type": "code",
   "execution_count": 42,
   "id": "69ce4f13",
   "metadata": {},
   "outputs": [],
   "source": [
    "def init_network():\n",
    "    network={}\n",
    "    network['W1']=np.array([[0.1,0.3,0.5],[0.2,0.4,0.6]])\n",
    "    network['b1']=np.array([0.1,0.2,0.3])\n",
    "    network['W2']=np.array([[0.1,0.4],[0.2,0.5],[0.3,0.6]])\n",
    "    network['b2']=np.array([0.1,0.2])\n",
    "    network['W3']=np.array([[0.1,0.3],[0.2,0.4]])\n",
    "    network['b3']=np.array([0.1,0.2])\n",
    "    return network"
   ]
  },
  {
   "cell_type": "code",
   "execution_count": 43,
   "id": "e2f0d4a3",
   "metadata": {},
   "outputs": [],
   "source": [
    "#첫번째 은닉층,두번째 은닉층 거쳐서 최종 출력얻기(출력층)-순방향\n",
    "def forward(network,x):\n",
    "    W1,W2,W3=network['W1'],network['W2'],network['W3']\n",
    "    b1,b2,b3=network['b1'],network['b2'],network['b3']\n",
    "    a1=np.dot(x,W1)+b1\n",
    "    z1=sigmoid(a1)\n",
    "    a2=np.dot(z1,W2)+b2\n",
    "    z2=sigmoid(a2)\n",
    "    a3=np.dot(z2,W3)+b3\n",
    "    y=identity_function(a3)\n",
    "    return y"
   ]
  },
  {
   "cell_type": "code",
   "execution_count": 44,
   "id": "f7a83b00",
   "metadata": {},
   "outputs": [
    {
     "name": "stdout",
     "output_type": "stream",
     "text": [
      "[0.31682708 0.69627909]\n"
     ]
    }
   ],
   "source": [
    "network=init_network()\n",
    "x=np.array([1.0,0.5])\n",
    "y=forward(network,x)\n",
    "print(y)"
   ]
  },
  {
   "cell_type": "markdown",
   "id": "6aac252f",
   "metadata": {},
   "source": [
    "## 3.5.1 항등함수와 소프트맥스 함수 구현하기\n",
    "소프트맥스 함수에서의 표기  \n",
    "n:출력층의 뉴런 수  \n",
    "Yk:k번째 출력  \n",
    "소프트맥스 함수의 분자:입력신호ak의 지수함수\n",
    "소프트맥스 함수의 분모:모든 입력신호의 지수함수의 합"
   ]
  },
  {
   "cell_type": "code",
   "execution_count": 45,
   "id": "a4dc03c5",
   "metadata": {},
   "outputs": [
    {
     "name": "stdout",
     "output_type": "stream",
     "text": [
      "[0.3 2.9 4. ]\n"
     ]
    }
   ],
   "source": [
    "a=np.array([0.3,2.9,4.0])\n",
    "exp_a=np.exp(a)\n",
    "print(a)"
   ]
  },
  {
   "cell_type": "code",
   "execution_count": 46,
   "id": "b7217aa5",
   "metadata": {},
   "outputs": [
    {
     "name": "stdout",
     "output_type": "stream",
     "text": [
      "74.1221542101633\n"
     ]
    }
   ],
   "source": [
    "sum_exp_a=np.sum(exp_a)#지수함수의 합\n",
    "print(sum_exp_a)"
   ]
  },
  {
   "cell_type": "code",
   "execution_count": 47,
   "id": "da16e142",
   "metadata": {},
   "outputs": [
    {
     "name": "stdout",
     "output_type": "stream",
     "text": [
      "[0.01821127 0.24519181 0.73659691]\n"
     ]
    }
   ],
   "source": [
    "y=exp_a/sum_exp_a\n",
    "print(y)"
   ]
  },
  {
   "cell_type": "code",
   "execution_count": 48,
   "id": "c2143c33",
   "metadata": {},
   "outputs": [],
   "source": [
    "def softmax(a):\n",
    "    exp_a=np.exp(a)\n",
    "    sum_exp_a=np.sum(exp_a)\n",
    "    y=exp_a/sum_exp_a\n",
    "    return y"
   ]
  },
  {
   "cell_type": "markdown",
   "id": "f7a97a03",
   "metadata": {},
   "source": [
    "## 3.5.2 소프트맥스 함수 구현시 주의점  \n",
    "overflow문제 발생:소프트맥스 함수는 지수함수를 사용하는데, 지수함수는 큰 값을 냄.ex)e**10은 20000이 넘고 e**1000은 무한대이므로 결과수치가 불안정"
   ]
  },
  {
   "cell_type": "code",
   "execution_count": 49,
   "id": "51afb3aa",
   "metadata": {},
   "outputs": [
    {
     "name": "stderr",
     "output_type": "stream",
     "text": [
      "C:\\Users\\a0103\\AppData\\Local\\Temp\\ipykernel_10212\\2598742236.py:2: RuntimeWarning: overflow encountered in exp\n",
      "  np.exp(a)/np.sum(np.exp(a))#소프트맥스 함수의 계산->제대로 계산되지 않음\n",
      "C:\\Users\\a0103\\AppData\\Local\\Temp\\ipykernel_10212\\2598742236.py:2: RuntimeWarning: invalid value encountered in true_divide\n",
      "  np.exp(a)/np.sum(np.exp(a))#소프트맥스 함수의 계산->제대로 계산되지 않음\n"
     ]
    },
    {
     "data": {
      "text/plain": [
       "array([nan, nan, nan])"
      ]
     },
     "execution_count": 49,
     "metadata": {},
     "output_type": "execute_result"
    }
   ],
   "source": [
    "a=np.array([1010,1000,990])\n",
    "np.exp(a)/np.sum(np.exp(a))#소프트맥스 함수의 계산->제대로 계산되지 않음"
   ]
  },
  {
   "cell_type": "code",
   "execution_count": 50,
   "id": "12a007c9",
   "metadata": {},
   "outputs": [
    {
     "data": {
      "text/plain": [
       "array([  0, -10, -20])"
      ]
     },
     "execution_count": 50,
     "metadata": {},
     "output_type": "execute_result"
    }
   ],
   "source": [
    "c=np.max(a)\n",
    "a-c#입력신호 중 최댓값 빼주기"
   ]
  },
  {
   "cell_type": "code",
   "execution_count": 51,
   "id": "08504044",
   "metadata": {},
   "outputs": [
    {
     "data": {
      "text/plain": [
       "array([9.99954600e-01, 4.53978686e-05, 2.06106005e-09])"
      ]
     },
     "execution_count": 51,
     "metadata": {},
     "output_type": "execute_result"
    }
   ],
   "source": [
    "np.exp(a-c)/np.sum(np.exp(a-c))"
   ]
  },
  {
   "cell_type": "code",
   "execution_count": 52,
   "id": "11853c1f",
   "metadata": {},
   "outputs": [],
   "source": [
    "def softmax(a):\n",
    "    c=np.max(a)\n",
    "    exp_a=np.exp(a-c)\n",
    "    sum_exp_a=np.sum(exp_a)\n",
    "    y=exp_a/sum_exp_a\n",
    "    return y"
   ]
  },
  {
   "cell_type": "markdown",
   "id": "964d8631",
   "metadata": {},
   "source": [
    "## 3.5.3 소프트맥스 함수의 특징  \n",
    "- 출력의 총합이 1이다  \n",
    "- 소프트맥스 함수의 출력을 '확률'로 해석가능  \n",
    "cf) 소프트맥스 함수를 적용해도 각 원소의 대소관계는 변하지 않는다. 즉 신경망 분류시 출력층의 소프트맥스함수를 생략가능"
   ]
  },
  {
   "cell_type": "code",
   "execution_count": 53,
   "id": "733f95b5",
   "metadata": {},
   "outputs": [
    {
     "name": "stdout",
     "output_type": "stream",
     "text": [
      "[0.01821127 0.24519181 0.73659691]\n"
     ]
    }
   ],
   "source": [
    "a=np.array([0.3,2.9,4.0])\n",
    "y=softmax(a)\n",
    "print(y)"
   ]
  },
  {
   "cell_type": "code",
   "execution_count": 54,
   "id": "ca510bc3",
   "metadata": {},
   "outputs": [
    {
     "data": {
      "text/plain": [
       "1.0"
      ]
     },
     "execution_count": 54,
     "metadata": {},
     "output_type": "execute_result"
    }
   ],
   "source": [
    "np.sum(y)"
   ]
  },
  {
   "cell_type": "markdown",
   "id": "ee2a37ae",
   "metadata": {},
   "source": [
    "## 3.5.4출력층의 뉴런 수 정하기\n",
    "클래스의 개수=분류의 개수로 설정하는 것이 일반적"
   ]
  },
  {
   "cell_type": "markdown",
   "id": "01fb8d96",
   "metadata": {},
   "source": [
    "## 3.6.1 MNIST데이터셋\n",
    "손글씨 숫자 이미지 집합"
   ]
  },
  {
   "cell_type": "code",
   "execution_count": 55,
   "id": "edb6fbee",
   "metadata": {},
   "outputs": [
    {
     "name": "stdout",
     "output_type": "stream",
     "text": [
      "(60000, 784)\n",
      "(60000,)\n",
      "(10000, 784)\n",
      "(10000,)\n"
     ]
    }
   ],
   "source": [
    "# flatten : 입력 이미지를 평탄화(1차원 배열로)\n",
    "# normalize : 입력 이미지를 정규화(0.0~1.0 사이의 값으로)\n",
    "# one_hot_label : 레이블을 원-핫 인코딩 형태로 저장\n",
    "import sys, os\n",
    "sys.path.append(\"C:\\\\Users\\\\a0103\\\\DeepLearning\")  # Use raw string (r) or escape backslashes\n",
    "\n",
    "from mnist import load_mnist\n",
    "\n",
    "(x_train, t_train), (x_test, t_test) = \\\n",
    "    load_mnist(flatten=True, normalize=False)\n",
    "\n",
    "print(x_train.shape)\n",
    "print(t_train.shape)\n",
    "print(x_test.shape)\n",
    "print(t_test.shape)"
   ]
  },
  {
   "cell_type": "code",
   "execution_count": 58,
   "id": "dc10a688",
   "metadata": {},
   "outputs": [
    {
     "data": {
      "text/plain": [
       "'C:\\\\Users\\\\a0103\\\\DeepLearning'"
      ]
     },
     "execution_count": 58,
     "metadata": {},
     "output_type": "execute_result"
    }
   ],
   "source": [
    "import os\n",
    "os.getcwd()"
   ]
  },
  {
   "cell_type": "code",
   "execution_count": 56,
   "id": "308d3053",
   "metadata": {},
   "outputs": [
    {
     "name": "stdout",
     "output_type": "stream",
     "text": [
      "5\n",
      "(784,)\n",
      "(28, 28)\n"
     ]
    }
   ],
   "source": [
    "import sys,os#시간이 오래걸림\n",
    "sys.path.append('C:\\\\Users\\\\a0103\\\\DeepLearning')\n",
    "import numpy as np\n",
    "from mnist import load_mnist\n",
    "from PIL import Image\n",
    "\n",
    "def img_show(img):\n",
    "    pil_img=Image.fromarray(np.uint8(img))\n",
    "    pil_img.show()\n",
    "(x_train, t_train), (x_test, t_test) = \\\n",
    "    load_mnist(flatten=True, normalize=False)\n",
    "img=x_train[0]\n",
    "label=t_train[0]\n",
    "print(label)\n",
    "print(img.shape)\n",
    "img=img.reshape(28,28)\n",
    "print(img.shape)\n",
    "img_show(img)"
   ]
  },
  {
   "cell_type": "markdown",
   "id": "f7e71d8f",
   "metadata": {},
   "source": [
    "reshape메소드에 원하는 형상을 인수로 지정시, 넘파이 배열 형상 바꾸기 가능  \n",
    "넘파이로 저장된 이미지 데이터를 PIL용 데이터객체로 변환해야 하며,Image.fromarray()가 이를 수행"
   ]
  },
  {
   "cell_type": "markdown",
   "id": "f6d6ee17",
   "metadata": {},
   "source": [
    "## 3.6.2신경망의 추론 처리\n",
    "정규화: 데이터를 특정범위로 변환하는 처리  \n",
    "전처리:신경망의 입력데이터에 특정변환을 가하는 것"
   ]
  },
  {
   "cell_type": "code",
   "execution_count": 58,
   "id": "1edd5307",
   "metadata": {},
   "outputs": [
    {
     "name": "stdout",
     "output_type": "stream",
     "text": [
      "Converting train-images-idx3-ubyte.gz to NumPy Array ...\n",
      "Done\n",
      "Converting train-labels-idx1-ubyte.gz to NumPy Array ...\n",
      "Done\n",
      "Converting t10k-images-idx3-ubyte.gz to NumPy Array ...\n",
      "Done\n",
      "Converting t10k-labels-idx1-ubyte.gz to NumPy Array ...\n",
      "Done\n",
      "Creating pickle file ...\n",
      "Done!\n",
      "Accuracy:0.9352\n"
     ]
    }
   ],
   "source": [
    "import pickle\n",
    "def get_data():\n",
    "    (x_train, t_train), (x_test, t_test) = \\\n",
    "        load_mnist(flatten=True, normalize=True, one_hot_label=False)\n",
    "    return x_test, t_test\n",
    "\n",
    "\n",
    "def init_network():\n",
    "    with open(\"sample_weight.pkl\", 'rb') as f:\n",
    "        # 학습된 가중치 매개변수가 담긴 파일\n",
    "        # 학습 없이 바로 추론을 수행\n",
    "        network = pickle.load(f)\n",
    "    return network\n",
    "\n",
    "\n",
    "def predict(network, x):#predict함수는 각 레이블 확률을 넘파이 배열로 반환한다.\n",
    "    W1, W2, W3 = network['W1'], network['W2'], network['W3']\n",
    "    b1, b2, b3 = network['b1'], network['b2'], network['b3']\n",
    "    a1 = np.dot(x, W1) + b1\n",
    "    z1 = sigmoid(a1)\n",
    "    a2 = np.dot(z1, W2) + b2\n",
    "    z2 = sigmoid(a2)\n",
    "    a3 = np.dot(z2, W3) + b3\n",
    "    y = softmax(a3)\n",
    "    return y\n",
    "\n",
    "\n",
    "x, t = get_data()\n",
    "network = init_network()\n",
    "accuracy_cnt = 0\n",
    "\n",
    "\n",
    "'''\n",
    "for i in range(len(x)):\n",
    "    y = predict(network, x[i])\n",
    "    p = np.argmax(y)  # 확률이 가장 높은 원소의 인덱스를 얻는다.\n",
    "    if p == t[i]:\n",
    "        accuracy_cnt += 1\n",
    "\n",
    "print(\"Accuracy:\" + str(float(accuracy_cnt) / len(x)))  # Accuracy:0.9352\n",
    "'''\n",
    "#배치처리(3.6.3)\n",
    "batch_size = 100\n",
    "for i in range(0, len(x), batch_size):\n",
    "    x_batch = x[i:i+batch_size]\n",
    "    y_batch = predict(network, x_batch)\n",
    "    p = np.argmax(y_batch, axis=1)#1번째 차원을 구성하는 각 원소에서 축으로 최댓값의 인덱스를 갖도록 한것\n",
    "    accuracy_cnt += np.sum(p == t[i:i+batch_size])\n",
    "\n",
    "print(\"Accuracy:\" + str(float(accuracy_cnt) / len(x)))"
   ]
  },
  {
   "cell_type": "markdown",
   "id": "2e380864",
   "metadata": {},
   "source": [
    "## 3.6.3 배치처리\n",
    "batch(배치):하나로 묶은 입력데이터들->ex)이미지 1장당 처리시간을 대폭 줄여주는 효과가 있음"
   ]
  }
 ],
 "metadata": {
  "kernelspec": {
   "display_name": "Python 3 (ipykernel)",
   "language": "python",
   "name": "python3"
  },
  "language_info": {
   "codemirror_mode": {
    "name": "ipython",
    "version": 3
   },
   "file_extension": ".py",
   "mimetype": "text/x-python",
   "name": "python",
   "nbconvert_exporter": "python",
   "pygments_lexer": "ipython3",
   "version": "3.9.12"
  }
 },
 "nbformat": 4,
 "nbformat_minor": 5
}
