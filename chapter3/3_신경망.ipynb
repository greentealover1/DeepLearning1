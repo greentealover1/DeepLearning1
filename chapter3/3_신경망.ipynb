{
  "cells": [
    {
      "cell_type": "markdown",
      "id": "14f62228",
      "metadata": {
        "id": "14f62228"
      },
      "source": [
        "## 3.1.1 신경망의 예  \n",
        "입력층, 은닉층, 출력층으로 구성됨.\n",
        "ex) y=b+w1*x1+w2*x2 값이 0이하면 0, 0초과이면 1로 분류  \n",
        "b=편향을 나타내는 매개변수, 뉴런이 얼마나 쉽게 활성화되느냐를 제어한다.  \n",
        "w1,w2는 각 신호의 가중치를 나타내는 매개변수로 각 신호의 영향력을 제어한다."
      ]
    },
    {
      "cell_type": "markdown",
      "id": "4f8dbc3b",
      "metadata": {
        "id": "4f8dbc3b"
      },
      "source": [
        "## 3.1.2 퍼셉트론 복습"
      ]
    },
    {
      "cell_type": "markdown",
      "id": "3b84a839",
      "metadata": {
        "id": "3b84a839"
      },
      "source": [
        "위와 같은 예제에서 가중치가 b이고 입력이 1인 뉴런이 추가되었을때, x1,x2,1이라는 3개 신호가 뉴런에 입력됨  \n",
        "각 신호에 가중치를 곱한 후, 다음 뉴런에 전달된다.  \n",
        "다음 뉴런에서는 이 신호들의 값을 더하여 그 합이 0을 넘으면 1출력, 그렇지 않으면 0출력."
      ]
    },
    {
      "cell_type": "markdown",
      "id": "4112dae9",
      "metadata": {
        "id": "4112dae9"
      },
      "source": [
        "## 3.1.3 활성화함수의 등장  \n",
        "활성화함수: 입력신호의 총합을 출력신호로 변환하는 함수  \n",
        "a=b+w1*x1+w2*x2  \n",
        "1,x1,x2는 입력노드,b는 가중치,a는 은닉노드,h()활성화함수를 통해 y라는 출력노드 생성됨  "
      ]
    },
    {
      "cell_type": "markdown",
      "id": "510e5054",
      "metadata": {
        "id": "510e5054"
      },
      "source": [
        "## 3.2.1 활성화함수(시그모이드 함수)"
      ]
    },
    {
      "cell_type": "code",
      "execution_count": null,
      "id": "4cfcfe2e",
      "metadata": {
        "colab": {
          "base_uri": "https://localhost:8080/"
        },
        "id": "4cfcfe2e",
        "outputId": "aa772518-7a3f-43cd-cecd-a92237dacc14"
      },
      "outputs": [
        {
          "output_type": "execute_result",
          "data": {
            "text/plain": [
              "0.8807970779778823"
            ]
          },
          "metadata": {},
          "execution_count": 1
        }
      ],
      "source": [
        "import math\n",
        "def h(x):\n",
        "    return 1/(1+math.exp(-x))\n",
        "h(2.0)"
      ]
    },
    {
      "cell_type": "markdown",
      "id": "dfa511ae",
      "metadata": {
        "id": "dfa511ae"
      },
      "source": [
        "신경망에서는 활성화함수로 시그모이드 함수를 이용하여 신호를 변환하고 그 변환된 신호를 다음 뉴런에 전달한다."
      ]
    },
    {
      "cell_type": "markdown",
      "id": "4eb439e1",
      "metadata": {
        "id": "4eb439e1"
      },
      "source": [
        "## 3.2.2 계단함수 구현하기"
      ]
    },
    {
      "cell_type": "code",
      "execution_count": null,
      "id": "6ded3f25",
      "metadata": {
        "id": "6ded3f25"
      },
      "outputs": [],
      "source": [
        "def step_function(x):\n",
        "  if x>0:\n",
        "    return 1\n",
        "  else:\n",
        "    return 0"
      ]
    },
    {
      "cell_type": "code",
      "execution_count": null,
      "id": "520b2507",
      "metadata": {
        "id": "520b2507"
      },
      "outputs": [],
      "source": [
        "import numpy as np\n",
        "def step_function(x):\n",
        "  y=x>0\n",
        "  return y.astype(np.int)"
      ]
    },
    {
      "cell_type": "code",
      "execution_count": null,
      "id": "e023af9e",
      "metadata": {
        "colab": {
          "base_uri": "https://localhost:8080/"
        },
        "id": "e023af9e",
        "outputId": "0c8f1c06-8169-42ba-c873-1a454814f54e"
      },
      "outputs": [
        {
          "output_type": "execute_result",
          "data": {
            "text/plain": [
              "array([-1.,  1.,  2.])"
            ]
          },
          "metadata": {},
          "execution_count": 4
        }
      ],
      "source": [
        "import numpy as np\n",
        "x=np.array([-1.0,1.0,2.0])\n",
        "x"
      ]
    },
    {
      "cell_type": "code",
      "execution_count": null,
      "id": "cd495e72",
      "metadata": {
        "colab": {
          "base_uri": "https://localhost:8080/"
        },
        "id": "cd495e72",
        "outputId": "f43dd04c-6cf0-40fc-b575-f86ddf32cb38"
      },
      "outputs": [
        {
          "output_type": "execute_result",
          "data": {
            "text/plain": [
              "array([False,  True,  True])"
            ]
          },
          "metadata": {},
          "execution_count": 5
        }
      ],
      "source": [
        "y=x>0#넘파이 배열에 부등호 연산을 수행하면 배열의 원소 각각에 부등호 연산을 수행한 bool배열이 생성됨\n",
        "y"
      ]
    },
    {
      "cell_type": "code",
      "execution_count": null,
      "id": "8612ce6a",
      "metadata": {
        "colab": {
          "base_uri": "https://localhost:8080/"
        },
        "id": "8612ce6a",
        "outputId": "3176c563-f636-425b-8dd6-384c70de40ca"
      },
      "outputs": [
        {
          "output_type": "execute_result",
          "data": {
            "text/plain": [
              "array([0, 1, 1])"
            ]
          },
          "metadata": {},
          "execution_count": 6
        }
      ],
      "source": [
        "y=y.astype(int)#astype():넘파이 배열의 자료형을 변환\n",
        "y"
      ]
    },
    {
      "cell_type": "markdown",
      "id": "e6b3dc22",
      "metadata": {
        "id": "e6b3dc22"
      },
      "source": [
        "## 3.2.3 계단함수 그래프"
      ]
    },
    {
      "cell_type": "code",
      "execution_count": null,
      "id": "aba027f0",
      "metadata": {
        "colab": {
          "base_uri": "https://localhost:8080/",
          "height": 430
        },
        "id": "aba027f0",
        "outputId": "3aee6c73-f5e7-49bd-ff68-90aa98b60787"
      },
      "outputs": [
        {
          "output_type": "display_data",
          "data": {
            "text/plain": [
              "<Figure size 640x480 with 1 Axes>"
            ],
            "image/png": "[encoded data removed]"
          },
          "metadata": {}
        }
      ],
      "source": [
        "import numpy as np\n",
        "import matplotlib.pyplot as plt\n",
        "def step_function(x):#인수로 받은 넘파이 배열의 원소각각을 인수로 계단함수를 실행하여 결과를 다시 배열로 되돌려줌\n",
        "  return np.array(x>0,dtype=int)\n",
        "x=np.arange(-5.0,5.0,0.1)\n",
        "y=step_function(x)\n",
        "plt.plot(x,y)\n",
        "plt.ylim(-0.1,1.1)\n",
        "plt.show()"
      ]
    },
    {
      "cell_type": "markdown",
      "id": "742038a4",
      "metadata": {
        "id": "742038a4"
      },
      "source": [
        "## 3.2.4 시그모이드 함수 구현하기"
      ]
    },
    {
      "cell_type": "code",
      "execution_count": null,
      "id": "819ac7fe",
      "metadata": {
        "id": "819ac7fe"
      },
      "outputs": [],
      "source": [
        "def sigmoid(x):\n",
        "  return 1/(1+np.exp(-x))"
      ]
    },
    {
      "cell_type": "code",
      "execution_count": null,
      "id": "d1409faa",
      "metadata": {
        "colab": {
          "base_uri": "https://localhost:8080/"
        },
        "id": "d1409faa",
        "outputId": "99d15289-ab97-4b69-f908-9e31bcc58844"
      },
      "outputs": [
        {
          "output_type": "execute_result",
          "data": {
            "text/plain": [
              "array([0.26894142, 0.73105858, 0.88079708])"
            ]
          },
          "metadata": {},
          "execution_count": 9
        }
      ],
      "source": [
        "x=np.array([-1.0,1.0,2.0])#브로드캐스트:넘파이배열과 스칼라값의 연산을 넘파이 배열의 원소 각각과 스칼라값의 연산으로 바꿔 수행함\n",
        "sigmoid(x)"
      ]
    },
    {
      "cell_type": "code",
      "execution_count": null,
      "id": "0b4eeb73",
      "metadata": {
        "colab": {
          "base_uri": "https://localhost:8080/"
        },
        "id": "0b4eeb73",
        "outputId": "3c790cd2-a614-4739-acd8-8c3b49163555"
      },
      "outputs": [
        {
          "output_type": "execute_result",
          "data": {
            "text/plain": [
              "array([2., 3., 4.])"
            ]
          },
          "metadata": {},
          "execution_count": 10
        }
      ],
      "source": [
        "t=np.array([1.0,2.0,3.0])\n",
        "1.0+t"
      ]
    },
    {
      "cell_type": "code",
      "execution_count": null,
      "id": "9545e7db",
      "metadata": {
        "colab": {
          "base_uri": "https://localhost:8080/"
        },
        "id": "9545e7db",
        "outputId": "179161a2-cab4-4daf-d42c-72c80454d0df"
      },
      "outputs": [
        {
          "output_type": "execute_result",
          "data": {
            "text/plain": [
              "array([1.        , 0.5       , 0.33333333])"
            ]
          },
          "metadata": {},
          "execution_count": 11
        }
      ],
      "source": [
        "1.0/t"
      ]
    },
    {
      "cell_type": "code",
      "execution_count": null,
      "id": "e5649be9",
      "metadata": {
        "colab": {
          "base_uri": "https://localhost:8080/",
          "height": 430
        },
        "id": "e5649be9",
        "outputId": "a10f69a9-8865-4fa8-adb3-d23e24ae3974"
      },
      "outputs": [
        {
          "output_type": "display_data",
          "data": {
            "text/plain": [
              "<Figure size 640x480 with 1 Axes>"
            ],
            "image/png": "[encoded data removed]"
          },
          "metadata": {}
        }
      ],
      "source": [
        "x=np.arange(-5.0,5.0,0.1)\n",
        "y=sigmoid(x)\n",
        "plt.plot(x,y)\n",
        "plt.ylim(-0.1,1.1)\n",
        "plt.show()"
      ]
    },
    {
      "cell_type": "markdown",
      "id": "17632dc2",
      "metadata": {
        "id": "17632dc2"
      },
      "source": [
        "시그모이드와 계단함수의 차이:시그모이드는 실수값 반환, 계단함수는 0 또는 1값 중 하나이다.  \n",
        "공통점: 출력이 0~1사이이다."
      ]
    },
    {
      "cell_type": "markdown",
      "id": "582839ed",
      "metadata": {
        "id": "582839ed"
      },
      "source": [
        "## 3.2.6 비선형 함수\n",
        "시그모이드 함수는 곡선, 계단함수는 구부러진 직선 모양의 비선형 함수이다."
      ]
    },
    {
      "cell_type": "markdown",
      "id": "cdaa6a75",
      "metadata": {
        "id": "cdaa6a75"
      },
      "source": [
        "## 3.2.7 ReLU함수  \n",
        "relu함수는 입력이 0을 넘으면 입력을 그대로 출력하고, 0이하이면 0을 출력하는 함수이다."
      ]
    },
    {
      "cell_type": "code",
      "execution_count": null,
      "id": "9dd6b1bd",
      "metadata": {
        "id": "9dd6b1bd"
      },
      "outputs": [],
      "source": [
        "def relu(x):\n",
        "    return np.maximum(0,x)"
      ]
    },
    {
      "cell_type": "markdown",
      "id": "61b052ad",
      "metadata": {
        "id": "61b052ad"
      },
      "source": [
        "## 3.3.1 다차원 배열\n",
        "숫자의 집합을 배열이라고 한다.  \n",
        "N차원으로 확장한 배열=다차원 배열"
      ]
    },
    {
      "cell_type": "code",
      "execution_count": null,
      "id": "e7c9f982",
      "metadata": {
        "colab": {
          "base_uri": "https://localhost:8080/"
        },
        "id": "e7c9f982",
        "outputId": "033a8826-7842-4fcf-e5dd-58830305901f"
      },
      "outputs": [
        {
          "output_type": "stream",
          "name": "stdout",
          "text": [
            "[1 2 3 4]\n"
          ]
        }
      ],
      "source": [
        "import numpy as np\n",
        "A=np.array([1,2,3,4])\n",
        "print(A)"
      ]
    },
    {
      "cell_type": "code",
      "execution_count": null,
      "id": "ee1f2725",
      "metadata": {
        "colab": {
          "base_uri": "https://localhost:8080/"
        },
        "id": "ee1f2725",
        "outputId": "7c3e41da-6303-4bda-ab01-94f410ec4789"
      },
      "outputs": [
        {
          "output_type": "execute_result",
          "data": {
            "text/plain": [
              "1"
            ]
          },
          "metadata": {},
          "execution_count": 15
        }
      ],
      "source": [
        "np.ndim(A)#배열의 차원"
      ]
    },
    {
      "cell_type": "code",
      "execution_count": null,
      "id": "30557b59",
      "metadata": {
        "colab": {
          "base_uri": "https://localhost:8080/"
        },
        "id": "30557b59",
        "outputId": "d514c1ed-8f2e-432d-cf32-b86a452ba1f2"
      },
      "outputs": [
        {
          "output_type": "execute_result",
          "data": {
            "text/plain": [
              "(4,)"
            ]
          },
          "metadata": {},
          "execution_count": 16
        }
      ],
      "source": [
        "A.shape#배열 요소4개"
      ]
    },
    {
      "cell_type": "code",
      "execution_count": null,
      "id": "39a17b84",
      "metadata": {
        "colab": {
          "base_uri": "https://localhost:8080/"
        },
        "id": "39a17b84",
        "outputId": "74c144df-a63b-4474-a184-efd8864c4fc6"
      },
      "outputs": [
        {
          "output_type": "execute_result",
          "data": {
            "text/plain": [
              "4"
            ]
          },
          "metadata": {},
          "execution_count": 17
        }
      ],
      "source": [
        "A.shape[0]#배열shape에서 0번째 인덱스인 4"
      ]
    },
    {
      "cell_type": "code",
      "execution_count": null,
      "id": "41f5055c",
      "metadata": {
        "colab": {
          "base_uri": "https://localhost:8080/"
        },
        "id": "41f5055c",
        "outputId": "1a501056-6953-41f0-8167-043283cccd22"
      },
      "outputs": [
        {
          "output_type": "stream",
          "name": "stdout",
          "text": [
            "[[1 2]\n",
            " [3 4]\n",
            " [5 6]]\n"
          ]
        }
      ],
      "source": [
        "B=np.array([[1,2],[3,4],[5,6]])\n",
        "print(B)"
      ]
    },
    {
      "cell_type": "code",
      "execution_count": null,
      "id": "2228e635",
      "metadata": {
        "colab": {
          "base_uri": "https://localhost:8080/"
        },
        "id": "2228e635",
        "outputId": "d0bd213e-976a-4a92-c28a-bbd1fdf3bfa9"
      },
      "outputs": [
        {
          "output_type": "execute_result",
          "data": {
            "text/plain": [
              "2"
            ]
          },
          "metadata": {},
          "execution_count": 19
        }
      ],
      "source": [
        "np.ndim(B)#2차원 배열-행렬"
      ]
    },
    {
      "cell_type": "code",
      "execution_count": null,
      "id": "538ac0fd",
      "metadata": {
        "colab": {
          "base_uri": "https://localhost:8080/"
        },
        "id": "538ac0fd",
        "outputId": "fec9bd83-e244-4c4a-f2e3-172ddca7e189"
      },
      "outputs": [
        {
          "output_type": "execute_result",
          "data": {
            "text/plain": [
              "(3, 2)"
            ]
          },
          "metadata": {},
          "execution_count": 20
        }
      ],
      "source": [
        "B.shape#(3,2)"
      ]
    },
    {
      "cell_type": "markdown",
      "id": "75e848f4",
      "metadata": {
        "id": "75e848f4"
      },
      "source": [
        "## 3.3.2 행렬의 곱\n",
        "np.dot은 입력이 1차원 배열이면 벡터, 2차원 배열이면 행렬곱 계산"
      ]
    },
    {
      "cell_type": "code",
      "execution_count": null,
      "id": "19bfa72e",
      "metadata": {
        "colab": {
          "base_uri": "https://localhost:8080/"
        },
        "id": "19bfa72e",
        "outputId": "e1690bd8-0e16-4f38-da0b-82ea8f90a2bf"
      },
      "outputs": [
        {
          "output_type": "execute_result",
          "data": {
            "text/plain": [
              "(2, 2)"
            ]
          },
          "metadata": {},
          "execution_count": 21
        }
      ],
      "source": [
        "A=np.array([[1,2],[3,4]])\n",
        "A.shape"
      ]
    },
    {
      "cell_type": "code",
      "execution_count": null,
      "id": "ddd17ea5",
      "metadata": {
        "colab": {
          "base_uri": "https://localhost:8080/"
        },
        "id": "ddd17ea5",
        "outputId": "6eaf9424-80aa-463b-f58f-8ed6f219646c"
      },
      "outputs": [
        {
          "output_type": "execute_result",
          "data": {
            "text/plain": [
              "(2, 2)"
            ]
          },
          "metadata": {},
          "execution_count": 22
        }
      ],
      "source": [
        "B=np.array([[5,6],[7,8]])\n",
        "B.shape#(2,2)"
      ]
    },
    {
      "cell_type": "code",
      "execution_count": null,
      "id": "8874e02e",
      "metadata": {
        "colab": {
          "base_uri": "https://localhost:8080/"
        },
        "id": "8874e02e",
        "outputId": "498cddb0-e6b9-41bf-e0e5-48ecfb42ff69"
      },
      "outputs": [
        {
          "output_type": "execute_result",
          "data": {
            "text/plain": [
              "array([[19, 22],\n",
              "       [43, 50]])"
            ]
          },
          "metadata": {},
          "execution_count": 23
        }
      ],
      "source": [
        "np.dot(A,B)#내적 ex(1*5+2*7=19)"
      ]
    },
    {
      "cell_type": "markdown",
      "id": "d7316c79",
      "metadata": {
        "id": "d7316c79"
      },
      "source": [
        "np.dot(A,B)와 np.dot(B,A)는 다른 값이 될 수 있음  \n",
        "cf)행렬의 곱은 행렬의 shape형상을 주의한다. 정확히는 행렬 A의 열의 수,행렬 B의 행의 수가 같아야 한다.  \n",
        "cf)다차원 배열을 곱하려면, 두 행렬의 대응하는 차원의 원소 수를 일치시켜야 한다."
      ]
    },
    {
      "cell_type": "code",
      "execution_count": null,
      "id": "fc9d666c",
      "metadata": {
        "colab": {
          "base_uri": "https://localhost:8080/"
        },
        "id": "fc9d666c",
        "outputId": "8e04925e-9363-4a67-ee66-489862dcccd4"
      },
      "outputs": [
        {
          "output_type": "execute_result",
          "data": {
            "text/plain": [
              "(2, 3)"
            ]
          },
          "metadata": {},
          "execution_count": 24
        }
      ],
      "source": [
        "A=np.array([[1,2,3],[4,5,6]])\n",
        "A.shape"
      ]
    },
    {
      "cell_type": "code",
      "execution_count": null,
      "id": "14d56751",
      "metadata": {
        "colab": {
          "base_uri": "https://localhost:8080/"
        },
        "id": "14d56751",
        "outputId": "5a5bc78b-5c76-4788-d76c-66f55a70cba8"
      },
      "outputs": [
        {
          "output_type": "execute_result",
          "data": {
            "text/plain": [
              "(3, 2)"
            ]
          },
          "metadata": {},
          "execution_count": 25
        }
      ],
      "source": [
        "B=np.array([[1,2],[3,4],[5,6]])\n",
        "B.shape"
      ]
    },
    {
      "cell_type": "code",
      "execution_count": null,
      "id": "b1053639",
      "metadata": {
        "colab": {
          "base_uri": "https://localhost:8080/"
        },
        "id": "b1053639",
        "outputId": "131519cd-adec-4b89-dcd1-550af380118e"
      },
      "outputs": [
        {
          "output_type": "execute_result",
          "data": {
            "text/plain": [
              "array([[22, 28],\n",
              "       [49, 64]])"
            ]
          },
          "metadata": {},
          "execution_count": 26
        }
      ],
      "source": [
        "np.dot(A,B)"
      ]
    },
    {
      "cell_type": "code",
      "execution_count": null,
      "id": "05a80e40",
      "metadata": {
        "colab": {
          "base_uri": "https://localhost:8080/"
        },
        "id": "05a80e40",
        "outputId": "3103d46c-0afe-43fd-c4e8-7722e0937d67"
      },
      "outputs": [
        {
          "output_type": "execute_result",
          "data": {
            "text/plain": [
              "(2, 2)"
            ]
          },
          "metadata": {},
          "execution_count": 27
        }
      ],
      "source": [
        "C=np.array([[1,2],[3,4]])\n",
        "C.shape"
      ]
    },
    {
      "cell_type": "code",
      "execution_count": null,
      "id": "6239fab6",
      "metadata": {
        "colab": {
          "base_uri": "https://localhost:8080/"
        },
        "id": "6239fab6",
        "outputId": "1f482f35-1d22-4312-850c-e79ef8ab48c1"
      },
      "outputs": [
        {
          "output_type": "execute_result",
          "data": {
            "text/plain": [
              "(2, 3)"
            ]
          },
          "metadata": {},
          "execution_count": 28
        }
      ],
      "source": [
        "A.shape"
      ]
    },
    {
      "cell_type": "code",
      "execution_count": null,
      "id": "f1811537",
      "metadata": {
        "id": "f1811537",
        "outputId": "2681dd02-6c1b-46fb-fdc9-f2f393cc128b"
      },
      "outputs": [
        {
          "ename": "ValueError",
          "evalue": "shapes (2,3) and (2,2) not aligned: 3 (dim 1) != 2 (dim 0)",
          "output_type": "error",
          "traceback": [
            "\u001b[1;31m---------------------------------------------------------------------------\u001b[0m",
            "\u001b[1;31mValueError\u001b[0m                                Traceback (most recent call last)",
            "Input \u001b[1;32mIn [29]\u001b[0m, in \u001b[0;36m<cell line: 1>\u001b[1;34m()\u001b[0m\n\u001b[1;32m----> 1\u001b[0m \u001b[43mnp\u001b[49m\u001b[38;5;241;43m.\u001b[39;49m\u001b[43mdot\u001b[49m\u001b[43m(\u001b[49m\u001b[43mA\u001b[49m\u001b[43m,\u001b[49m\u001b[43mC\u001b[49m\u001b[43m)\u001b[49m\n",
            "File \u001b[1;32m<__array_function__ internals>:5\u001b[0m, in \u001b[0;36mdot\u001b[1;34m(*args, **kwargs)\u001b[0m\n",
            "\u001b[1;31mValueError\u001b[0m: shapes (2,3) and (2,2) not aligned: 3 (dim 1) != 2 (dim 0)"
          ]
        }
      ],
      "source": [
        "np.dot(A,C)#잘못된 예시! 차원의 원소 수를 일치시켜야 한다!"
      ]
    },
    {
      "cell_type": "code",
      "execution_count": null,
      "id": "0d188da1",
      "metadata": {
        "colab": {
          "base_uri": "https://localhost:8080/"
        },
        "id": "0d188da1",
        "outputId": "ebe76664-bcb5-4913-cbf4-5a545609e6d2"
      },
      "outputs": [
        {
          "output_type": "execute_result",
          "data": {
            "text/plain": [
              "(3, 2)"
            ]
          },
          "metadata": {},
          "execution_count": 29
        }
      ],
      "source": [
        "A=np.array([[1,2],[3,4],[5,6]])\n",
        "A.shape"
      ]
    },
    {
      "cell_type": "code",
      "execution_count": null,
      "id": "47d51eea",
      "metadata": {
        "colab": {
          "base_uri": "https://localhost:8080/"
        },
        "id": "47d51eea",
        "outputId": "c774fadb-9d46-46e5-c647-eb295f1b4402"
      },
      "outputs": [
        {
          "output_type": "execute_result",
          "data": {
            "text/plain": [
              "(2,)"
            ]
          },
          "metadata": {},
          "execution_count": 30
        }
      ],
      "source": [
        "B=np.array([7,8])\n",
        "B.shape"
      ]
    },
    {
      "cell_type": "code",
      "execution_count": null,
      "id": "56481ae5",
      "metadata": {
        "colab": {
          "base_uri": "https://localhost:8080/"
        },
        "id": "56481ae5",
        "outputId": "0b0d5b73-995a-46ba-d5d4-c445e6eef3a3"
      },
      "outputs": [
        {
          "output_type": "execute_result",
          "data": {
            "text/plain": [
              "array([23, 53, 83])"
            ]
          },
          "metadata": {},
          "execution_count": 31
        }
      ],
      "source": [
        "np.dot(A,B)"
      ]
    },
    {
      "cell_type": "markdown",
      "id": "389b8d09",
      "metadata": {
        "id": "389b8d09"
      },
      "source": [
        "## 3.3.3 신경망에서의 행렬 곱"
      ]
    },
    {
      "cell_type": "code",
      "execution_count": null,
      "id": "92c3be9e",
      "metadata": {
        "colab": {
          "base_uri": "https://localhost:8080/"
        },
        "id": "92c3be9e",
        "outputId": "e21b8975-fe34-4268-92dc-5c46da1aefe6"
      },
      "outputs": [
        {
          "output_type": "execute_result",
          "data": {
            "text/plain": [
              "(2,)"
            ]
          },
          "metadata": {},
          "execution_count": 32
        }
      ],
      "source": [
        "X=np.array([1,2])\n",
        "X.shape"
      ]
    },
    {
      "cell_type": "code",
      "execution_count": null,
      "id": "d07e9e81",
      "metadata": {
        "colab": {
          "base_uri": "https://localhost:8080/"
        },
        "id": "d07e9e81",
        "outputId": "b636555f-c3e6-444f-c8e4-7fea68be4e7e"
      },
      "outputs": [
        {
          "output_type": "stream",
          "name": "stdout",
          "text": [
            "[[1 3 5]\n",
            " [2 4 6]]\n"
          ]
        }
      ],
      "source": [
        "W=np.array([[1,3,5],[2,4,6]])\n",
        "print(W)"
      ]
    },
    {
      "cell_type": "code",
      "execution_count": null,
      "id": "79021159",
      "metadata": {
        "colab": {
          "base_uri": "https://localhost:8080/"
        },
        "id": "79021159",
        "outputId": "c9df4300-a29b-49da-9f32-adcb07ff2694"
      },
      "outputs": [
        {
          "output_type": "execute_result",
          "data": {
            "text/plain": [
              "(2, 3)"
            ]
          },
          "metadata": {},
          "execution_count": 34
        }
      ],
      "source": [
        "W.shape"
      ]
    },
    {
      "cell_type": "code",
      "execution_count": null,
      "id": "379f8d7d",
      "metadata": {
        "colab": {
          "base_uri": "https://localhost:8080/"
        },
        "id": "379f8d7d",
        "outputId": "cad411a3-c08f-4ee1-a5aa-6f30adccc9ea"
      },
      "outputs": [
        {
          "output_type": "stream",
          "name": "stdout",
          "text": [
            "[ 5 11 17]\n"
          ]
        }
      ],
      "source": [
        "Y=np.dot(X,W)\n",
        "print(Y)"
      ]
    },
    {
      "cell_type": "markdown",
      "id": "bfcc7bb7",
      "metadata": {
        "id": "bfcc7bb7"
      },
      "source": [
        "## 3.4 3층 신경망 구현하기\n",
        "3층 신경망에서 수행되는 순방향 처리 구현  \n",
        "가정)입력층(0층)2개, 첫번째 은닉층(1층)은 3개, 두번째 은닉층(2층)은 2개, 출력층(3층)은 2개의 뉴런으로 구성된다.  \n",
        "cf)가중치의 오른쪽 아래 두 숫자는 차례로 다음 층 뉴런과 앞 층 뉴런의 인덱스 번호이다."
      ]
    },
    {
      "cell_type": "markdown",
      "id": "ac3dc566",
      "metadata": {
        "id": "ac3dc566"
      },
      "source": [
        "## 3.4.2 각 층의 신호전달 구현하기"
      ]
    },
    {
      "cell_type": "code",
      "execution_count": null,
      "id": "0ec88668",
      "metadata": {
        "colab": {
          "base_uri": "https://localhost:8080/"
        },
        "id": "0ec88668",
        "outputId": "5d7b5c5b-057a-4df5-962c-d9958ad7b38c"
      },
      "outputs": [
        {
          "output_type": "stream",
          "name": "stdout",
          "text": [
            "(2, 3)\n",
            "(2,)\n",
            "(3,)\n"
          ]
        }
      ],
      "source": [
        "X=np.array([1.0,0.5])\n",
        "W1=np.array([[0.1,0.3,0.5],[0.2,0.4,0.6]])\n",
        "B1=np.array([0.1,0.2,0.3])\n",
        "print(W1.shape)#(2,3)\n",
        "print(X.shape)#(2,)\n",
        "print(B1.shape)#(3,)\n",
        "A1=np.dot(X,W1)+B1"
      ]
    },
    {
      "cell_type": "code",
      "execution_count": null,
      "id": "eb506f81",
      "metadata": {
        "colab": {
          "base_uri": "https://localhost:8080/"
        },
        "id": "eb506f81",
        "outputId": "250f296c-99ec-4120-a2dc-afac9a1272d3"
      },
      "outputs": [
        {
          "output_type": "stream",
          "name": "stdout",
          "text": [
            "[0.3 0.7 1.1]\n",
            "[0.57444252 0.66818777 0.75026011]\n"
          ]
        }
      ],
      "source": [
        "Z1=sigmoid(A1)#입력층에서 1층 은닉층의 첫번째 노드를 거친 신호값을 활성화함수에 넣기\n",
        "print(A1)\n",
        "print(Z1)"
      ]
    },
    {
      "cell_type": "markdown",
      "id": "760cdc9f",
      "metadata": {
        "id": "760cdc9f"
      },
      "source": [
        "은닉층에서의 가중치 합(가중신호와 편향의 총합)을 a로 표기->활성화함수h()로 변환된 신호를 z로 표기"
      ]
    },
    {
      "cell_type": "markdown",
      "id": "7867b185",
      "metadata": {
        "id": "7867b185"
      },
      "source": [
        "#### 입력층에서 첫번째 은닉층의 첫번째 노드에서 두번째 은닉층까지의 신호전달(1층에서 2층으로 신호전달과정)"
      ]
    },
    {
      "cell_type": "code",
      "execution_count": null,
      "id": "07d5ac76",
      "metadata": {
        "colab": {
          "base_uri": "https://localhost:8080/"
        },
        "id": "07d5ac76",
        "outputId": "43a0796c-964a-469c-e336-69053f91c03a"
      },
      "outputs": [
        {
          "output_type": "stream",
          "name": "stdout",
          "text": [
            "(3,)\n",
            "(3, 2)\n",
            "(2,)\n"
          ]
        }
      ],
      "source": [
        "W2=np.array([[0.1,0.4],[0.2,0.5],[0.3,0.6]])\n",
        "B2=np.array([0.1,0.2])#bias\n",
        "print(Z1.shape)\n",
        "print(W2.shape)\n",
        "print(B2.shape)\n",
        "A2=np.dot(Z1,W2)+B2\n",
        "Z2=sigmoid(A2)"
      ]
    },
    {
      "cell_type": "markdown",
      "id": "80fe2a4a",
      "metadata": {
        "id": "80fe2a4a"
      },
      "source": [
        "#### 2층에서 출력층으로의 신호전달"
      ]
    },
    {
      "cell_type": "code",
      "execution_count": null,
      "id": "11e7a1c0",
      "metadata": {
        "colab": {
          "base_uri": "https://localhost:8080/"
        },
        "id": "11e7a1c0",
        "outputId": "aaddb9d5-0bcc-4100-92f1-cb037e4325dd"
      },
      "outputs": [
        {
          "output_type": "stream",
          "name": "stdout",
          "text": [
            "[0.31682708 0.69627909]\n"
          ]
        }
      ],
      "source": [
        "def identity_function(x):\n",
        "    return x\n",
        "W3=np.array([[0.1,0.3],[0.2,0.4]])\n",
        "B3=np.array([0.1,0.2])\n",
        "A3=np.dot(Z2,W3)+B3\n",
        "Y=identity_function(A3)#Y=A3와 동일\n",
        "print(Y)"
      ]
    },
    {
      "cell_type": "markdown",
      "id": "a5f1ebbc",
      "metadata": {
        "id": "a5f1ebbc"
      },
      "source": [
        "## 3.4.3 구현정리"
      ]
    },
    {
      "cell_type": "code",
      "execution_count": null,
      "id": "69ce4f13",
      "metadata": {
        "id": "69ce4f13"
      },
      "outputs": [],
      "source": [
        "def init_network():\n",
        "  network={}\n",
        "  network['W1']=np.array([[0.1,0.3,0.5],[0.2,0.4,0.6]])\n",
        "  network['b1']=np.array([0.1,0.2,0.3])\n",
        "  network['W2']=np.array([[0.1,0.4],[0.2,0.5],[0.3,0.6]])\n",
        "  network['b2']=np.array([0.1,0.2])\n",
        "  network['W3']=np.array([[0.1,0.3],[0.2,0.4]])\n",
        "  network['b3']=np.array([0.1,0.2])\n",
        "  return network"
      ]
    },
    {
      "cell_type": "code",
      "execution_count": null,
      "id": "e2f0d4a3",
      "metadata": {
        "id": "e2f0d4a3"
      },
      "outputs": [],
      "source": [
        "#첫번째 은닉층,두번째 은닉층 거쳐서 최종 출력얻기(출력층)-순방향\n",
        "def forward(network,x):\n",
        "    W1,W2,W3=network['W1'],network['W2'],network['W3']\n",
        "    b1,b2,b3=network['b1'],network['b2'],network['b3']\n",
        "    a1=np.dot(x,W1)+b1\n",
        "    z1=sigmoid(a1)\n",
        "    a2=np.dot(z1,W2)+b2\n",
        "    z2=sigmoid(a2)\n",
        "    a3=np.dot(z2,W3)+b3\n",
        "    y=identity_function(a3)\n",
        "    return y"
      ]
    },
    {
      "cell_type": "code",
      "execution_count": null,
      "id": "f7a83b00",
      "metadata": {
        "colab": {
          "base_uri": "https://localhost:8080/"
        },
        "id": "f7a83b00",
        "outputId": "48c250a5-2c98-41de-ba70-d32430cec5f5"
      },
      "outputs": [
        {
          "output_type": "stream",
          "name": "stdout",
          "text": [
            "[0.31682708 0.69627909]\n"
          ]
        }
      ],
      "source": [
        "network=init_network()\n",
        "x=np.array([1.0,0.5])\n",
        "y=forward(network,x)\n",
        "print(y)"
      ]
    },
    {
      "cell_type": "markdown",
      "id": "6aac252f",
      "metadata": {
        "id": "6aac252f"
      },
      "source": [
        "## 3.5.1 항등함수와 소프트맥스 함수 구현하기\n",
        "소프트맥스 함수에서의 표기  \n",
        "n:출력층의 뉴런 수  \n",
        "Yk:k번째 출력    \n",
        "소프트맥스 함수의 분자:입력신호ak의 지수함수  \n",
        "소프트맥스 함수의 분모:모든 입력신호의 지수함수의 합    \n",
        "cf)회귀:항등함수 분류:소프트맥스 자주 사용"
      ]
    },
    {
      "cell_type": "code",
      "execution_count": null,
      "id": "a4dc03c5",
      "metadata": {
        "colab": {
          "base_uri": "https://localhost:8080/"
        },
        "id": "a4dc03c5",
        "outputId": "cae32fe8-71c4-4f0b-8222-ad5b91eb8cd0"
      },
      "outputs": [
        {
          "output_type": "stream",
          "name": "stdout",
          "text": [
            "[ 1.34985881 18.17414537 54.59815003]\n"
          ]
        }
      ],
      "source": [
        "a=np.array([0.3,2.9,4.0])\n",
        "exp_a=np.exp(a)\n",
        "print(exp_a)"
      ]
    },
    {
      "cell_type": "code",
      "execution_count": null,
      "id": "b7217aa5",
      "metadata": {
        "colab": {
          "base_uri": "https://localhost:8080/"
        },
        "id": "b7217aa5",
        "outputId": "609ec0a2-0d3a-47bb-cbe2-6aeb7fc0b617"
      },
      "outputs": [
        {
          "output_type": "stream",
          "name": "stdout",
          "text": [
            "74.1221542101633\n"
          ]
        }
      ],
      "source": [
        "sum_exp_a=np.sum(exp_a)\n",
        "print(sum_exp_a)"
      ]
    },
    {
      "cell_type": "code",
      "execution_count": null,
      "id": "da16e142",
      "metadata": {
        "colab": {
          "base_uri": "https://localhost:8080/"
        },
        "id": "da16e142",
        "outputId": "cb3723ea-722f-4d5a-8bc8-89bd80eabb33"
      },
      "outputs": [
        {
          "output_type": "stream",
          "name": "stdout",
          "text": [
            "[0.01821127 0.24519181 0.73659691]\n"
          ]
        }
      ],
      "source": [
        "y=exp_a/sum_exp_a\n",
        "print(y)"
      ]
    },
    {
      "cell_type": "code",
      "source": [
        "#실제로 소프트맥스 함수의 각 확률의 합이 1인지 확인?\n",
        "hap=np.sum(y)\n",
        "print(hap)"
      ],
      "metadata": {
        "colab": {
          "base_uri": "https://localhost:8080/"
        },
        "id": "6IciUIg5n0EF",
        "outputId": "33e5a6ab-152a-49d5-e5a4-54adaff8bc47"
      },
      "id": "6IciUIg5n0EF",
      "execution_count": null,
      "outputs": [
        {
          "output_type": "stream",
          "name": "stdout",
          "text": [
            "1.0\n"
          ]
        }
      ]
    },
    {
      "cell_type": "code",
      "execution_count": null,
      "id": "c2143c33",
      "metadata": {
        "id": "c2143c33"
      },
      "outputs": [],
      "source": [
        "def softmax(a):\n",
        "  exp_a=np.exp(a)\n",
        "  sum_exp_a=np.sum(exp_a)\n",
        "  y=exp_a/sum_exp_a\n",
        "  return y"
      ]
    },
    {
      "cell_type": "markdown",
      "id": "f7a97a03",
      "metadata": {
        "id": "f7a97a03"
      },
      "source": [
        "## 3.5.2 소프트맥스 함수 구현시 주의점  \n",
        "overflow문제 발생:소프트맥스 함수는 지수함수를 사용하는데, 지수함수는 큰 값을 냄.ex)e**10은 20000이 넘고 e**1000은 무한대이므로 결과수치가 불안정"
      ]
    },
    {
      "cell_type": "code",
      "execution_count": null,
      "id": "51afb3aa",
      "metadata": {
        "colab": {
          "base_uri": "https://localhost:8080/"
        },
        "id": "51afb3aa",
        "outputId": "24477674-a40f-41cb-fe56-01f116222ec9"
      },
      "outputs": [
        {
          "output_type": "stream",
          "name": "stderr",
          "text": [
            "<ipython-input-48-f66edc432f09>:2: RuntimeWarning: overflow encountered in exp\n",
            "  np.exp(a)/np.sum(np.exp(a))#소프트맥스 함수의 계산->제대로 계산되지 않음\n",
            "<ipython-input-48-f66edc432f09>:2: RuntimeWarning: invalid value encountered in divide\n",
            "  np.exp(a)/np.sum(np.exp(a))#소프트맥스 함수의 계산->제대로 계산되지 않음\n"
          ]
        },
        {
          "output_type": "execute_result",
          "data": {
            "text/plain": [
              "array([nan, nan, nan])"
            ]
          },
          "metadata": {},
          "execution_count": 48
        }
      ],
      "source": [
        "a=np.array([1010,1000,990])\n",
        "np.exp(a)/np.sum(np.exp(a))#소프트맥스 함수의 계산->제대로 계산되지 않음"
      ]
    },
    {
      "cell_type": "code",
      "execution_count": null,
      "id": "12a007c9",
      "metadata": {
        "colab": {
          "base_uri": "https://localhost:8080/"
        },
        "id": "12a007c9",
        "outputId": "99ef7af2-65b5-4061-8117-57ddbf9762f2"
      },
      "outputs": [
        {
          "output_type": "execute_result",
          "data": {
            "text/plain": [
              "array([  0, -10, -20])"
            ]
          },
          "metadata": {},
          "execution_count": 49
        }
      ],
      "source": [
        "c=np.max(a)\n",
        "a-c#입력신호 중 최댓값 빼주기"
      ]
    },
    {
      "cell_type": "code",
      "execution_count": null,
      "id": "08504044",
      "metadata": {
        "colab": {
          "base_uri": "https://localhost:8080/"
        },
        "id": "08504044",
        "outputId": "a1ac560d-189e-4217-c882-d243f1c8cb1f"
      },
      "outputs": [
        {
          "output_type": "execute_result",
          "data": {
            "text/plain": [
              "array([9.99954600e-01, 4.53978686e-05, 2.06106005e-09])"
            ]
          },
          "metadata": {},
          "execution_count": 50
        }
      ],
      "source": [
        "np.exp(a-c)/np.sum(np.exp(a-c))"
      ]
    },
    {
      "cell_type": "code",
      "execution_count": null,
      "id": "11853c1f",
      "metadata": {
        "id": "11853c1f"
      },
      "outputs": [],
      "source": [
        "def softmax(a):\n",
        "    c=np.max(a)\n",
        "    exp_a=np.exp(a-c)\n",
        "    sum_exp_a=np.sum(exp_a)\n",
        "    y=exp_a/sum_exp_a\n",
        "    return y"
      ]
    },
    {
      "cell_type": "markdown",
      "id": "964d8631",
      "metadata": {
        "id": "964d8631"
      },
      "source": [
        "## 3.5.3 소프트맥스 함수의 특징  \n",
        "- 출력의 총합이 1이다  \n",
        "- 소프트맥스 함수의 출력을 '확률'로 해석가능  \n",
        "cf) 소프트맥스 함수를 적용해도 각 원소의 대소관계는 변하지 않는다. 즉 신경망 분류시 출력층의 소프트맥스함수를 생략가능"
      ]
    },
    {
      "cell_type": "code",
      "execution_count": null,
      "id": "733f95b5",
      "metadata": {
        "colab": {
          "base_uri": "https://localhost:8080/"
        },
        "id": "733f95b5",
        "outputId": "274f5bbc-2ad3-46d9-8bfe-f1a33ddd93bf"
      },
      "outputs": [
        {
          "output_type": "stream",
          "name": "stdout",
          "text": [
            "[0.01821127 0.24519181 0.73659691]\n"
          ]
        }
      ],
      "source": [
        "a=np.array([0.3,2.9,4.0])\n",
        "y=softmax(a)\n",
        "print(y)"
      ]
    },
    {
      "cell_type": "code",
      "execution_count": null,
      "id": "ca510bc3",
      "metadata": {
        "colab": {
          "base_uri": "https://localhost:8080/"
        },
        "id": "ca510bc3",
        "outputId": "e6bae4a6-c71b-4234-ca47-c6eed1509227"
      },
      "outputs": [
        {
          "output_type": "execute_result",
          "data": {
            "text/plain": [
              "1.0"
            ]
          },
          "metadata": {},
          "execution_count": 53
        }
      ],
      "source": [
        "np.sum(y)"
      ]
    },
    {
      "cell_type": "markdown",
      "id": "ee2a37ae",
      "metadata": {
        "id": "ee2a37ae"
      },
      "source": [
        "## 3.5.4출력층의 뉴런 수 정하기\n",
        "클래스의 개수=분류의 개수로 설정하는 것이 일반적"
      ]
    },
    {
      "cell_type": "markdown",
      "id": "01fb8d96",
      "metadata": {
        "id": "01fb8d96"
      },
      "source": [
        "## 3.6.1 MNIST데이터셋\n",
        "손글씨 숫자 이미지 집합"
      ]
    },
    {
      "cell_type": "code",
      "source": [
        "from google.colab import drive\n",
        "drive.mount('/content/drive')"
      ],
      "metadata": {
        "colab": {
          "base_uri": "https://localhost:8080/"
        },
        "id": "0W7Z3gN9z20u",
        "outputId": "5652c56a-8ec7-412d-91a9-b052e86dc835"
      },
      "id": "0W7Z3gN9z20u",
      "execution_count": null,
      "outputs": [
        {
          "output_type": "stream",
          "name": "stdout",
          "text": [
            "Mounted at /content/drive\n"
          ]
        }
      ]
    },
    {
      "cell_type": "code",
      "execution_count": null,
      "id": "dc10a688",
      "metadata": {
        "colab": {
          "base_uri": "https://localhost:8080/",
          "height": 35
        },
        "id": "dc10a688",
        "outputId": "26877e36-2133-44a8-e49d-84b03b55dd15"
      },
      "outputs": [
        {
          "output_type": "execute_result",
          "data": {
            "text/plain": [
              "'/content'"
            ],
            "application/vnd.google.colaboratory.intrinsic+json": {
              "type": "string"
            }
          },
          "metadata": {},
          "execution_count": 55
        }
      ],
      "source": [
        "import os\n",
        "os.getcwd()"
      ]
    },
    {
      "cell_type": "code",
      "source": [
        "import sys\n",
        "import os\n",
        "sys.path.append( '/content/drive/MyDrive/deeplearning/deep-learning-from-scratch-master/')\n",
        "\n",
        "import numpy as np\n",
        "from dataset.mnist import load_mnist  # MNIST 모듈 불러오기\n",
        "from PIL import Image  # PIL 라이브러리 불러오기"
      ],
      "metadata": {
        "id": "eOM2GSbmUFBw"
      },
      "id": "eOM2GSbmUFBw",
      "execution_count": null,
      "outputs": []
    },
    {
      "cell_type": "code",
      "source": [
        "def img_show(img):\n",
        "    pil_img=Image.fromarray(np.uint8(img))\n",
        "    pil_img.show()\n",
        "(x_train, t_train), (x_test, t_test) = \\\n",
        "    load_mnist(flatten=True, normalize=False)\n",
        "img=x_train[0]\n",
        "label=t_train[0]\n",
        "print(label)\n",
        "print(img.shape)\n",
        "img=img.reshape(28,28)\n",
        "print(img.shape)\n",
        "img_show(img)"
      ],
      "metadata": {
        "colab": {
          "base_uri": "https://localhost:8080/"
        },
        "id": "VVUw84piUqkY",
        "outputId": "dad2c81a-8963-44d4-adf1-d8a7e97cbcad"
      },
      "id": "VVUw84piUqkY",
      "execution_count": null,
      "outputs": [
        {
          "output_type": "stream",
          "name": "stdout",
          "text": [
            "Converting train-images-idx3-ubyte.gz to NumPy Array ...\n",
            "Done\n",
            "Converting train-labels-idx1-ubyte.gz to NumPy Array ...\n",
            "Done\n",
            "Converting t10k-images-idx3-ubyte.gz to NumPy Array ...\n",
            "Done\n",
            "Converting t10k-labels-idx1-ubyte.gz to NumPy Array ...\n",
            "Done\n",
            "Creating pickle file ...\n",
            "Done!\n",
            "5\n",
            "(784,)\n",
            "(28, 28)\n"
          ]
        }
      ]
    },
    {
      "cell_type": "markdown",
      "id": "f7e71d8f",
      "metadata": {
        "id": "f7e71d8f"
      },
      "source": [
        "reshape메소드에 원하는 형상을 인수로 지정시, 넘파이 배열 형상 바꾸기 가능  \n",
        "넘파이로 저장된 이미지 데이터를 PIL용 데이터객체로 변환해야 하며,Image.fromarray()가 이를 수행"
      ]
    },
    {
      "cell_type": "markdown",
      "id": "f6d6ee17",
      "metadata": {
        "id": "f6d6ee17"
      },
      "source": [
        "## 3.6.2신경망의 추론 처리\n",
        "정규화: 데이터를 특정범위로 변환하는 처리  \n",
        "전처리:신경망의 입력데이터에 특정변환을 가하는 것"
      ]
    },
    {
      "cell_type": "code",
      "execution_count": null,
      "id": "1edd5307",
      "metadata": {
        "colab": {
          "base_uri": "https://localhost:8080/"
        },
        "id": "1edd5307",
        "outputId": "955bee93-4b69-4d7e-fecc-004e1bb0e92d"
      },
      "outputs": [
        {
          "output_type": "stream",
          "name": "stdout",
          "text": [
            "Accuracy:0.9352\n"
          ]
        }
      ],
      "source": [
        "import pickle\n",
        "def get_data():\n",
        "  (x_train,t_train),(x_test,t_test)=\\\n",
        "    load_mnist(normalize=True,flatten=True,one_hot_label=False)\n",
        "  return x_test,t_test\n",
        "def init_network():\n",
        "    with open(\"/content/drive/MyDrive/deeplearning/deep-learning-from-scratch-master/ch03/sample_weight.pkl\", 'rb') as f:\n",
        "        # 학습된 가중치 매개변수가 담긴 파일\n",
        "        # 학습 없이 바로 추론을 수행\n",
        "        network = pickle.load(f)\n",
        "    return network\n",
        "\n",
        "def predict(network, x):#predict함수는 각 레이블 확률을 넘파이 배열로 반환한다.\n",
        "    W1, W2, W3 = network['W1'], network['W2'], network['W3']\n",
        "    b1, b2, b3 = network['b1'], network['b2'], network['b3']\n",
        "    a1 = np.dot(x, W1) + b1\n",
        "    z1 = sigmoid(a1)\n",
        "    a2 = np.dot(z1, W2) + b2\n",
        "    z2 = sigmoid(a2)\n",
        "    a3 = np.dot(z2, W3) + b3\n",
        "    y = softmax(a3)\n",
        "    return y\n",
        "\n",
        "x, t = get_data()\n",
        "network = init_network()\n",
        "accuracy_cnt = 0\n",
        "\n",
        "'''\n",
        "for i in range(len(x)):\n",
        "    y = predict(network, x[i])\n",
        "    p = np.argmax(y)  # 확률이 가장 높은 원소의 인덱스를 얻는다.\n",
        "    if p == t[i]:\n",
        "        accuracy_cnt += 1\n",
        "\n",
        "print(\"Accuracy:\" + str(float(accuracy_cnt) / len(x)))  # Accuracy:0.9352\n",
        "'''\n",
        "#배치처리(3.6.3)\n",
        "batch_size = 100\n",
        "for i in range(0, len(x), batch_size):\n",
        "    x_batch = x[i:i+batch_size]\n",
        "    y_batch = predict(network, x_batch)\n",
        "    p = np.argmax(y_batch, axis=1)#1번째 차원을 구성하는 각 원소에서 축으로 최댓값의 인덱스를 갖도록 한것\n",
        "    accuracy_cnt += np.sum(p == t[i:i+batch_size])\n",
        "\n",
        "print(\"Accuracy:\" + str(float(accuracy_cnt) / len(x)))"
      ]
    },
    {
      "cell_type": "markdown",
      "id": "2e380864",
      "metadata": {
        "id": "2e380864"
      },
      "source": [
        "## 3.6.3 배치처리\n",
        "batch(배치):하나로 묶은 입력데이터들->ex)이미지 1장당 처리시간을 대폭 줄여주는 효과가 있음"
      ]
    }
  ],
  "metadata": {
    "kernelspec": {
      "display_name": "Python 3 (ipykernel)",
      "language": "python",
      "name": "python3"
    },
    "language_info": {
      "codemirror_mode": {
        "name": "ipython",
        "version": 3
      },
      "file_extension": ".py",
      "mimetype": "text/x-python",
      "name": "python",
      "nbconvert_exporter": "python",
      "pygments_lexer": "ipython3",
      "version": "3.9.12"
    },
    "colab": {
      "provenance": []
    }
  },
  "nbformat": 4,
  "nbformat_minor": 5
}