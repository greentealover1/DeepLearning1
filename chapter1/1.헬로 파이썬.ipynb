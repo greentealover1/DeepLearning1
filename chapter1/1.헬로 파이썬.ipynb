{
 "cells": [
  {
   "cell_type": "markdown",
   "id": "5dc8bf84",
   "metadata": {},
   "source": [
    "## 1.1  파이썬이란?\n",
    "- 간단하고 배우기 쉬운 프로그래밍 언어, 오픈소스\n",
    "- 영어와 유사한 문법이며 인터프리터 방식\n",
    "- 데이터 과학 분야: 수치계산과 통계처리를 다루는 라이브러리(numpy, scipy)등 존재\n",
    "- 딥러닝 프레임워크 API:Tenserflow, Pytorch등"
   ]
  },
  {
   "cell_type": "code",
   "execution_count": 1,
   "id": "b6488423",
   "metadata": {},
   "outputs": [
    {
     "name": "stdout",
     "output_type": "stream",
     "text": [
      "Requirement already satisfied: anaconda in c:\\users\\a0103\\anaconda3\\lib\\site-packages (0.0.1.1)\n",
      "Note: you may need to restart the kernel to use updated packages.\n"
     ]
    },
    {
     "name": "stderr",
     "output_type": "stream",
     "text": [
      "\n",
      "[notice] A new release of pip is available: 23.3.1 -> 23.3.2\n",
      "[notice] To update, run: python.exe -m pip install --upgrade pip\n"
     ]
    }
   ],
   "source": [
    "pip install anaconda"
   ]
  },
  {
   "cell_type": "code",
   "execution_count": 3,
   "id": "c2c92608",
   "metadata": {},
   "outputs": [
    {
     "data": {
      "text/plain": [
       "3"
      ]
     },
     "execution_count": 3,
     "metadata": {},
     "output_type": "execute_result"
    }
   ],
   "source": [
    "1+2"
   ]
  },
  {
   "cell_type": "markdown",
   "id": "face0639",
   "metadata": {},
   "source": [
    "## 1.3.1 산술연산"
   ]
  },
  {
   "cell_type": "code",
   "execution_count": 4,
   "id": "5dac1cc1",
   "metadata": {},
   "outputs": [
    {
     "data": {
      "text/plain": [
       "-1"
      ]
     },
     "execution_count": 4,
     "metadata": {},
     "output_type": "execute_result"
    }
   ],
   "source": [
    "1-2"
   ]
  },
  {
   "cell_type": "code",
   "execution_count": 5,
   "id": "5819aba2",
   "metadata": {},
   "outputs": [
    {
     "data": {
      "text/plain": [
       "20"
      ]
     },
     "execution_count": 5,
     "metadata": {},
     "output_type": "execute_result"
    }
   ],
   "source": [
    "4*5"
   ]
  },
  {
   "cell_type": "code",
   "execution_count": 6,
   "id": "b5f097ba",
   "metadata": {},
   "outputs": [
    {
     "data": {
      "text/plain": [
       "1.4"
      ]
     },
     "execution_count": 6,
     "metadata": {},
     "output_type": "execute_result"
    }
   ],
   "source": [
    "7/5"
   ]
  },
  {
   "cell_type": "code",
   "execution_count": 7,
   "id": "ca52478a",
   "metadata": {},
   "outputs": [
    {
     "data": {
      "text/plain": [
       "9"
      ]
     },
     "execution_count": 7,
     "metadata": {},
     "output_type": "execute_result"
    }
   ],
   "source": [
    "3**2"
   ]
  },
  {
   "cell_type": "code",
   "execution_count": 8,
   "id": "e03a6274",
   "metadata": {},
   "outputs": [
    {
     "data": {
      "text/plain": [
       "1"
      ]
     },
     "execution_count": 8,
     "metadata": {},
     "output_type": "execute_result"
    }
   ],
   "source": [
    "7//5#몫"
   ]
  },
  {
   "cell_type": "markdown",
   "id": "bb90f9cc",
   "metadata": {},
   "source": [
    "## 1.3.2 자료형\n",
    "자료형: 데이터의 성질,정수, 소수, 문자열같은 형태  \n",
    "type함수로 특정 데이터의 자료형 확인"
   ]
  },
  {
   "cell_type": "code",
   "execution_count": 9,
   "id": "8fdcac83",
   "metadata": {},
   "outputs": [
    {
     "data": {
      "text/plain": [
       "(int, float)"
      ]
     },
     "execution_count": 9,
     "metadata": {},
     "output_type": "execute_result"
    }
   ],
   "source": [
    "type(10),type(2.7189)"
   ]
  },
  {
   "cell_type": "code",
   "execution_count": 10,
   "id": "e1121f2b",
   "metadata": {},
   "outputs": [
    {
     "data": {
      "text/plain": [
       "str"
      ]
     },
     "execution_count": 10,
     "metadata": {},
     "output_type": "execute_result"
    }
   ],
   "source": [
    "type(\"Hello World\")"
   ]
  },
  {
   "cell_type": "markdown",
   "id": "e1882a66",
   "metadata": {},
   "source": [
    "## 1.3.3 변수\n",
    "변수를 통해 계산하거나 다른 값을 대입할 수 있음"
   ]
  },
  {
   "cell_type": "code",
   "execution_count": 11,
   "id": "0acdff7d",
   "metadata": {},
   "outputs": [
    {
     "name": "stdout",
     "output_type": "stream",
     "text": [
      "10\n"
     ]
    }
   ],
   "source": [
    "x=10\n",
    "print(x)"
   ]
  },
  {
   "cell_type": "code",
   "execution_count": 13,
   "id": "b3371a42",
   "metadata": {},
   "outputs": [
    {
     "data": {
      "text/plain": [
       "314.0"
      ]
     },
     "execution_count": 13,
     "metadata": {},
     "output_type": "execute_result"
    }
   ],
   "source": [
    "x=100\n",
    "y=3.14\n",
    "x*y#정수*실수는 실수"
   ]
  },
  {
   "cell_type": "markdown",
   "id": "2f45e344",
   "metadata": {},
   "source": [
    "## 1.3.4 리스트  \n",
    "여러 데이터를 저장하는 방법 중 하나 "
   ]
  },
  {
   "cell_type": "code",
   "execution_count": 2,
   "id": "5fb76ddc",
   "metadata": {},
   "outputs": [
    {
     "name": "stdout",
     "output_type": "stream",
     "text": [
      "[1, 2, 3, 4, 5]\n"
     ]
    }
   ],
   "source": [
    "a=[1,2,3,4,5]\n",
    "print(a)"
   ]
  },
  {
   "cell_type": "code",
   "execution_count": 3,
   "id": "a9fcff51",
   "metadata": {},
   "outputs": [
    {
     "data": {
      "text/plain": [
       "1"
      ]
     },
     "execution_count": 3,
     "metadata": {},
     "output_type": "execute_result"
    }
   ],
   "source": [
    "a[0]"
   ]
  },
  {
   "cell_type": "code",
   "execution_count": 4,
   "id": "e00d274c",
   "metadata": {},
   "outputs": [
    {
     "name": "stdout",
     "output_type": "stream",
     "text": [
      "[1, 2, 3, 4, 99]\n"
     ]
    }
   ],
   "source": [
    "a[4]=99#5값을 99로 변경->슬라이싱을 이용해서 범위를 지정해 원하는 부분의 리스트를 얻을 수 있다.\n",
    "print(a)"
   ]
  },
  {
   "cell_type": "code",
   "execution_count": 5,
   "id": "7f88edd3",
   "metadata": {},
   "outputs": [
    {
     "data": {
      "text/plain": [
       "[1, 2]"
      ]
     },
     "execution_count": 5,
     "metadata": {},
     "output_type": "execute_result"
    }
   ],
   "source": [
    "a[0:2]"
   ]
  },
  {
   "cell_type": "code",
   "execution_count": 6,
   "id": "77c96ad3",
   "metadata": {},
   "outputs": [
    {
     "data": {
      "text/plain": [
       "[2, 3, 4, 99]"
      ]
     },
     "execution_count": 6,
     "metadata": {},
     "output_type": "execute_result"
    }
   ],
   "source": [
    "a[1:]#1번 인덱스 데이터인 2부터 시작해서 끝까지 데이터 얻기"
   ]
  },
  {
   "cell_type": "markdown",
   "id": "80870d7d",
   "metadata": {},
   "source": [
    "## 1.3.5 딕셔너리  \n",
    "key, value값을 한 쌍으로 저장한다.(리스트와의 차이점: 인덱스번호(0,1,2,..)로 저장하는 게 아니라 사전형식 구조임"
   ]
  },
  {
   "cell_type": "code",
   "execution_count": 7,
   "id": "e81111d7",
   "metadata": {},
   "outputs": [
    {
     "name": "stdout",
     "output_type": "stream",
     "text": [
      "{'height': 180}\n"
     ]
    }
   ],
   "source": [
    "me={\"height\":180}\n",
    "me[\"height\"]\n",
    "print(me)"
   ]
  },
  {
   "cell_type": "markdown",
   "id": "c54084e8",
   "metadata": {},
   "source": [
    "## 1.3.6 bool  \n",
    "true,false자료형을 가짐  \n",
    "and,or,not연산자를 사용할 수 있다."
   ]
  },
  {
   "cell_type": "code",
   "execution_count": 8,
   "id": "2e647b54",
   "metadata": {},
   "outputs": [],
   "source": [
    "hungry=True #배가 고프다 \n",
    "sleepy=False #졸리지 않다"
   ]
  },
  {
   "cell_type": "code",
   "execution_count": 9,
   "id": "82e176ff",
   "metadata": {},
   "outputs": [
    {
     "data": {
      "text/plain": [
       "False"
      ]
     },
     "execution_count": 9,
     "metadata": {},
     "output_type": "execute_result"
    }
   ],
   "source": [
    "not hungry"
   ]
  },
  {
   "cell_type": "code",
   "execution_count": 10,
   "id": "be7bdf21",
   "metadata": {},
   "outputs": [
    {
     "data": {
      "text/plain": [
       "False"
      ]
     },
     "execution_count": 10,
     "metadata": {},
     "output_type": "execute_result"
    }
   ],
   "source": [
    "hungry and sleepy"
   ]
  },
  {
   "cell_type": "code",
   "execution_count": 11,
   "id": "7324ad52",
   "metadata": {},
   "outputs": [
    {
     "data": {
      "text/plain": [
       "True"
      ]
     },
     "execution_count": 11,
     "metadata": {},
     "output_type": "execute_result"
    }
   ],
   "source": [
    "hungry or sleepy"
   ]
  },
  {
   "cell_type": "markdown",
   "id": "bc0dbf39",
   "metadata": {},
   "source": [
    "## 1.3.7 if문  \n",
    "간단한 조건식으로 조건구문에 따라 if&elif&else를 처리한다. "
   ]
  },
  {
   "cell_type": "code",
   "execution_count": 12,
   "id": "d50eca6e",
   "metadata": {},
   "outputs": [
    {
     "name": "stdout",
     "output_type": "stream",
     "text": [
      "여름입니다.\n"
     ]
    }
   ],
   "source": [
    "weather=\"여름\"\n",
    "if weather==\"여름\":\n",
    "    print(\"여름입니다.\")\n",
    "elif weather==\"가을\":\n",
    "    print(\"가을입니다.\")\n",
    "elif weather==\"봄\":\n",
    "    print(\"봄입니다.\")\n",
    "else:\n",
    "    print(\"겨울입니다.\")"
   ]
  },
  {
   "cell_type": "markdown",
   "id": "fd62aabd",
   "metadata": {},
   "source": [
    "## 1.3.8 for문  \n",
    "반복 루프 처리에 for문을 사용한다."
   ]
  },
  {
   "cell_type": "code",
   "execution_count": 13,
   "id": "8ee652c7",
   "metadata": {},
   "outputs": [
    {
     "name": "stdout",
     "output_type": "stream",
     "text": [
      "1\n",
      "2\n",
      "3\n"
     ]
    }
   ],
   "source": [
    "a=[1,2,3]#for문 구문을 사용하면 리스트 등 데이터 집합의 각 원소에 차례대로 접근할 수 있다.\n",
    "for i in a:\n",
    "    print(i)"
   ]
  },
  {
   "cell_type": "markdown",
   "id": "1883965a",
   "metadata": {},
   "source": [
    "## 1.3.9 함수  \n",
    "특정 기능을 수행하는 일련의 명령들을 묶어 하나의 함수로 정의할 수 있다."
   ]
  },
  {
   "cell_type": "code",
   "execution_count": 14,
   "id": "e0309a9e",
   "metadata": {},
   "outputs": [
    {
     "name": "stdout",
     "output_type": "stream",
     "text": [
      "hello world\n"
     ]
    }
   ],
   "source": [
    "def hello():\n",
    "    print(\"hello world\")\n",
    "hello()#함수 호출"
   ]
  },
  {
   "cell_type": "markdown",
   "id": "44c58aa9",
   "metadata": {},
   "source": [
    "## 1.4.1 파이썬 스크립트 파일  \n",
    "파이썬 인터프리터는 파이썬 코드를 대화식으로 실행해보며 간단한 실험을 수행하기 좋다.  \n",
    "파이썬 파일로 저장하고 이를 실행하는 방법을 사용한다."
   ]
  },
  {
   "cell_type": "code",
   "execution_count": 15,
   "id": "130d0c8d",
   "metadata": {},
   "outputs": [],
   "source": [
    "f=open(\"file.txt\",\"w\")#쓰기모드로 파일 열기\n",
    "f.write(\"I am hungry\")\n",
    "f.close()"
   ]
  },
  {
   "cell_type": "code",
   "execution_count": 16,
   "id": "41b8eb24",
   "metadata": {},
   "outputs": [
    {
     "name": "stdout",
     "output_type": "stream",
     "text": [
      "I am hungry\n"
     ]
    }
   ],
   "source": [
    "f=open(\"file.txt\",\"r\")#읽기모드로 파일 열기\n",
    "print(f.readline())#파일의 첫번째줄을 읽어오기\n",
    "f.close()"
   ]
  },
  {
   "cell_type": "markdown",
   "id": "f3032810",
   "metadata": {},
   "source": [
    "## 1.4.2 클래스  \n",
    "변수와 함수를 저장하고 사용하는 틀, 멤버와 메서드를 정의한다."
   ]
  },
  {
   "cell_type": "code",
   "execution_count": 17,
   "id": "0524dbf1",
   "metadata": {},
   "outputs": [
    {
     "name": "stdout",
     "output_type": "stream",
     "text": [
      "initialized\n",
      "Hello David!\n",
      "Good-bye David!\n"
     ]
    }
   ],
   "source": [
    "class Man:\n",
    "    def __init__(self,name):#생성자:클래스 인스턴스(객체)가 만들어질때 한번만 호출됨.\n",
    "        self.name=name\n",
    "        print(\"initialized\")\n",
    "    def hello(self):\n",
    "        print(\"Hello \"+self.name+\"!\")\n",
    "    def goodbye(self):\n",
    "        print(\"Good-bye \"+self.name+\"!\")\n",
    "m=Man(\"David\")#Man(변수)에서 변수는 인스턴스 변수다(self.name)에 의해서\n",
    "m.hello()\n",
    "m.goodbye()"
   ]
  },
  {
   "cell_type": "markdown",
   "id": "fd0ebab1",
   "metadata": {},
   "source": [
    "## 1.5.1 넘파이 가져오기  \n",
    "넘파이에는 배열, 행렬 계산에 효율적이다. 딥러닝 구현시 자주 사용"
   ]
  },
  {
   "cell_type": "code",
   "execution_count": 18,
   "id": "7595ea4d",
   "metadata": {},
   "outputs": [],
   "source": [
    "import numpy as np"
   ]
  },
  {
   "cell_type": "markdown",
   "id": "142ae766",
   "metadata": {},
   "source": [
    "## 1.5.2 넘파일 배열 생성하기  \n",
    "np.array()는 파이썬의 리스트를 인수로 받아 넘파이 라이브러리가 제공하는 특수한 형태의 배열을 반환한다."
   ]
  },
  {
   "cell_type": "code",
   "execution_count": 19,
   "id": "f00448c3",
   "metadata": {},
   "outputs": [
    {
     "name": "stdout",
     "output_type": "stream",
     "text": [
      "[1. 2. 3.]\n",
      "<class 'numpy.ndarray'>\n"
     ]
    }
   ],
   "source": [
    "x=np.array([1.0,2.0,3.0])\n",
    "print(x)\n",
    "print(type(x))"
   ]
  },
  {
   "cell_type": "markdown",
   "id": "a7a01e5c",
   "metadata": {},
   "source": [
    "## 1.5.3 넘파이의 산술 연산  \n",
    "x,y배열에 대해서 원소 수가 같다면, 산술연산은 각 원소에 대해 행해진다.  \n",
    "넘파이 배열은 원소별 계산뿐만 아니라 넘파이 배열과 수치 하나의 조합으로 된 산술연산도 수행할 수 있다.  \n",
    "브로드캐스팅:스칼라값과 넘파이배열의 조합계산시, 스칼라값이 넘파이 배열 각 원소에 한번씩 수행됨"
   ]
  },
  {
   "cell_type": "code",
   "execution_count": 20,
   "id": "0346ff56",
   "metadata": {},
   "outputs": [
    {
     "data": {
      "text/plain": [
       "array([0.5, 1. , 1.5])"
      ]
     },
     "execution_count": 20,
     "metadata": {},
     "output_type": "execute_result"
    }
   ],
   "source": [
    "x=np.array([1.0,2.0,3.0])\n",
    "x/2.0"
   ]
  },
  {
   "cell_type": "markdown",
   "id": "3cf08d3a",
   "metadata": {},
   "source": [
    "## 1.5.4 넘파이의 N차원 배열  \n",
    "넘파이는 1차원 배열뿐만 아니라, 다차원 배열도 작성할 수 있다."
   ]
  },
  {
   "cell_type": "code",
   "execution_count": 21,
   "id": "4c7fb054",
   "metadata": {},
   "outputs": [
    {
     "name": "stdout",
     "output_type": "stream",
     "text": [
      "[[1 2]\n",
      " [3 4]]\n"
     ]
    }
   ],
   "source": [
    "A=np.array([[1,2],[3,4]])\n",
    "print(A)"
   ]
  },
  {
   "cell_type": "code",
   "execution_count": 22,
   "id": "2a9a27f7",
   "metadata": {},
   "outputs": [
    {
     "data": {
      "text/plain": [
       "(2, 2)"
      ]
     },
     "execution_count": 22,
     "metadata": {},
     "output_type": "execute_result"
    }
   ],
   "source": [
    "A.shape#2차원 배열의 shape알려줌"
   ]
  },
  {
   "cell_type": "code",
   "execution_count": 23,
   "id": "5d7f4573",
   "metadata": {},
   "outputs": [
    {
     "data": {
      "text/plain": [
       "dtype('int32')"
      ]
     },
     "execution_count": 23,
     "metadata": {},
     "output_type": "execute_result"
    }
   ],
   "source": [
    "A.dtype"
   ]
  },
  {
   "cell_type": "code",
   "execution_count": 24,
   "id": "29581c98",
   "metadata": {},
   "outputs": [
    {
     "data": {
      "text/plain": [
       "array([[ 4,  2],\n",
       "       [ 3, 10]])"
      ]
     },
     "execution_count": 24,
     "metadata": {},
     "output_type": "execute_result"
    }
   ],
   "source": [
    "B=np.array([[3,0],[0,6]])\n",
    "A+B"
   ]
  },
  {
   "cell_type": "code",
   "execution_count": 25,
   "id": "a9665b18",
   "metadata": {},
   "outputs": [
    {
     "data": {
      "text/plain": [
       "array([[ 3,  0],\n",
       "       [ 0, 24]])"
      ]
     },
     "execution_count": 25,
     "metadata": {},
     "output_type": "execute_result"
    }
   ],
   "source": [
    "A*B"
   ]
  },
  {
   "cell_type": "code",
   "execution_count": 26,
   "id": "6b398bba",
   "metadata": {},
   "outputs": [
    {
     "name": "stdout",
     "output_type": "stream",
     "text": [
      "[[1 2]\n",
      " [3 4]]\n"
     ]
    }
   ],
   "source": [
    "print(A)"
   ]
  },
  {
   "cell_type": "code",
   "execution_count": 27,
   "id": "ee5499a5",
   "metadata": {},
   "outputs": [
    {
     "data": {
      "text/plain": [
       "array([[10, 20],\n",
       "       [30, 40]])"
      ]
     },
     "execution_count": 27,
     "metadata": {},
     "output_type": "execute_result"
    }
   ],
   "source": [
    "A*10 #행렬과 스칼라값의 산술연산도 가능"
   ]
  },
  {
   "cell_type": "markdown",
   "id": "bf0357fd",
   "metadata": {},
   "source": [
    "## 1.5.5 브로드캐스트  \n",
    "브로드캐스팅: numpy에서 shape이 다른 배열끼리의 연산기능"
   ]
  },
  {
   "cell_type": "code",
   "execution_count": 28,
   "id": "fe8ba013",
   "metadata": {},
   "outputs": [
    {
     "data": {
      "text/plain": [
       "array([[10, 40],\n",
       "       [30, 80]])"
      ]
     },
     "execution_count": 28,
     "metadata": {},
     "output_type": "execute_result"
    }
   ],
   "source": [
    "A=np.array([[1,2],[3,4]])\n",
    "B=np.array([10,20])\n",
    "A*B"
   ]
  },
  {
   "cell_type": "markdown",
   "id": "9b21ea40",
   "metadata": {},
   "source": [
    "## 1.5.6 원소 접근"
   ]
  },
  {
   "cell_type": "code",
   "execution_count": 29,
   "id": "22897829",
   "metadata": {},
   "outputs": [
    {
     "name": "stdout",
     "output_type": "stream",
     "text": [
      "[[51 55]\n",
      " [14 19]\n",
      " [ 0  4]]\n"
     ]
    }
   ],
   "source": [
    "X=np.array([[51,55],[14,19],[0,4]])\n",
    "print(X)"
   ]
  },
  {
   "cell_type": "code",
   "execution_count": 30,
   "id": "b7da3a0b",
   "metadata": {},
   "outputs": [
    {
     "data": {
      "text/plain": [
       "array([51, 55])"
      ]
     },
     "execution_count": 30,
     "metadata": {},
     "output_type": "execute_result"
    }
   ],
   "source": [
    "X[0]"
   ]
  },
  {
   "cell_type": "code",
   "execution_count": 31,
   "id": "a4fb9839",
   "metadata": {},
   "outputs": [
    {
     "name": "stdout",
     "output_type": "stream",
     "text": [
      "[51 55]\n",
      "[14 19]\n",
      "[0 4]\n"
     ]
    }
   ],
   "source": [
    "for row in X:\n",
    "    print(row)"
   ]
  },
  {
   "cell_type": "code",
   "execution_count": 32,
   "id": "fcd0c3fa",
   "metadata": {},
   "outputs": [
    {
     "name": "stdout",
     "output_type": "stream",
     "text": [
      "[51 55 14 19  0  4]\n"
     ]
    }
   ],
   "source": [
    "X=X.flatten()#X를 1차원 배열로 변환(평탄화)\n",
    "print(X)"
   ]
  },
  {
   "cell_type": "code",
   "execution_count": 33,
   "id": "2e861d2c",
   "metadata": {},
   "outputs": [
    {
     "data": {
      "text/plain": [
       "array([51, 14,  0])"
      ]
     },
     "execution_count": 33,
     "metadata": {},
     "output_type": "execute_result"
    }
   ],
   "source": [
    "X[np.array([0,2,4])]#인덱스가 0,2,4인 배열의 원소들만 얻기"
   ]
  },
  {
   "cell_type": "code",
   "execution_count": 34,
   "id": "8d337566",
   "metadata": {},
   "outputs": [
    {
     "data": {
      "text/plain": [
       "array([ True,  True, False,  True, False, False])"
      ]
     },
     "execution_count": 34,
     "metadata": {},
     "output_type": "execute_result"
    }
   ],
   "source": [
    "X>15"
   ]
  },
  {
   "cell_type": "code",
   "execution_count": 35,
   "id": "94c7acc9",
   "metadata": {},
   "outputs": [
    {
     "data": {
      "text/plain": [
       "array([51, 55, 19])"
      ]
     },
     "execution_count": 35,
     "metadata": {},
     "output_type": "execute_result"
    }
   ],
   "source": [
    "X[X>15]"
   ]
  },
  {
   "cell_type": "markdown",
   "id": "17f94006",
   "metadata": {},
   "source": [
    "## 1.6 matplotlib  \n",
    "그래프를 그려주는 라이브러리"
   ]
  },
  {
   "cell_type": "code",
   "execution_count": 36,
   "id": "b88bd2a2",
   "metadata": {},
   "outputs": [
    {
     "data": {
      "image/png": "[encoded data removed]",
      "text/plain": [
       "<Figure size 432x288 with 1 Axes>"
      ]
     },
     "metadata": {
      "needs_background": "light"
     },
     "output_type": "display_data"
    }
   ],
   "source": [
    "import numpy as np\n",
    "import matplotlib.pyplot as plt\n",
    "x=np.arange(0,6,0.1)#0~6까지 0.1단위로 생성\n",
    "y=np.sin(x)\n",
    "plt.plot(x,y)\n",
    "plt.show()"
   ]
  },
  {
   "cell_type": "markdown",
   "id": "ee5d8be7",
   "metadata": {},
   "source": [
    "## 1.6.2 pyplot의 기능  \n",
    "제목, x,y축등의 레이블 이름 표시등과 같은 기능도 제공한다."
   ]
  },
  {
   "cell_type": "code",
   "execution_count": 38,
   "id": "7f1a9808",
   "metadata": {},
   "outputs": [
    {
     "data": {
      "image/png": "[encoded data removed]",
      "text/plain": [
       "<Figure size 432x288 with 1 Axes>"
      ]
     },
     "metadata": {
      "needs_background": "light"
     },
     "output_type": "display_data"
    }
   ],
   "source": [
    "import numpy as np\n",
    "import matplotlib.pyplot as plt\n",
    "x=np.arange(0,6,0.1)\n",
    "y1=np.sin(x)\n",
    "y2=np.cos(x)\n",
    "plt.plot(x,y1,label='sin')\n",
    "plt.plot(x,y2,ls=\"--\",label=\"cos\")\n",
    "plt.xlabel(\"x\")\n",
    "plt.ylabel(\"y\")\n",
    "plt.title(\"sin and cos\")\n",
    "plt.legend()#범례 보이기\n",
    "plt.show()"
   ]
  },
  {
   "cell_type": "markdown",
   "id": "33c59e7d",
   "metadata": {},
   "source": [
    "## 1.6.3 이미지 표시하기"
   ]
  },
  {
   "cell_type": "code",
   "execution_count": 39,
   "id": "551c28db",
   "metadata": {},
   "outputs": [
    {
     "data": {
      "image/png": "[encoded data removed]",
      "text/plain": [
       "<Figure size 432x288 with 1 Axes>"
      ]
     },
     "metadata": {
      "needs_background": "light"
     },
     "output_type": "display_data"
    }
   ],
   "source": [
    "import matplotlib.pyplot as plt\n",
    "from matplotlib.image import imread\n",
    "img=imread(\"ic_launcher.png\")\n",
    "plt.imshow(img)\n",
    "plt.show()"
   ]
  }
 ],
 "metadata": {
  "kernelspec": {
   "display_name": "Python 3 (ipykernel)",
   "language": "python",
   "name": "python3"
  },
  "language_info": {
   "codemirror_mode": {
    "name": "ipython",
    "version": 3
   },
   "file_extension": ".py",
   "mimetype": "text/x-python",
   "name": "python",
   "nbconvert_exporter": "python",
   "pygments_lexer": "ipython3",
   "version": "3.9.12"
  }
 },
 "nbformat": 4,
 "nbformat_minor": 5
}
