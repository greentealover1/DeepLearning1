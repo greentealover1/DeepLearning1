{
 "cells": [
  {
   "cell_type": "markdown",
   "id": "6c103844",
   "metadata": {},
   "source": [
    "학습이란 훈련데이터로부터 가중치 매개변수의 최적값을 자동으로 획득하는 것을 의미"
   ]
  },
  {
   "cell_type": "markdown",
   "id": "62499aab",
   "metadata": {},
   "source": [
    "## 4.1.1 데이터 주도 학습  \n",
    "데이터에서 답을 찾고 데이터에서 패턴을 발견하는 작업이 기계학습  \n",
    "ex) 손글씨 숫자 5의 예:사람마다 고유의 필체가 있기 때문에 이미지에서 특징을 추출하고 특징 패턴을 기계학습 기술로 학습하는 방법=특징 추출  \n",
    "특징:입력데이터에서 본질적인 데이터를 정확하게 추출할 수 있도록 설계된 변환기  \n",
    "신경망은 모든 문제를 주어진 데이터 그대로 입력데이터로 활용해 엔드 투 엔드 방식으로 학습가능"
   ]
  },
  {
   "cell_type": "markdown",
   "id": "356c1cf3",
   "metadata": {},
   "source": [
    "## 4.1.2훈련데이터와 시험데이터  \n",
    "데이터의 구성:훈련데이터(train dataset), 시험데이터(test dataset)  \n",
    "범용능력을 고려해서 훈련데이터와 시험데이터로 나눠서 모델 성능을 평가한다.  \n",
    "- 기계학습의 목표:범용능력(보지 못한 데이터로도 문제를 올바르게 풀어낼 수 있는 능력)  \n",
    "cf) 이때 한 데이터셋(특히 훈련데이터셋)에 지나치게 최적화된 상태를 'over fitting(과적합)'이라고 한다."
   ]
  },
  {
   "cell_type": "markdown",
   "id": "6d37e335",
   "metadata": {},
   "source": [
    "## 4.2손실함수  \n",
    "신경망은 '하나의 지표'를 기준으로 최적의 매개변수 값을 탐색한다.   \n",
    "이때 지표로 손실함수를 사용. 손실함수는 일반적으로 오차제곱합, 교차 엔트로피 오차를 많이 사용"
   ]
  },
  {
   "cell_type": "markdown",
   "id": "0053a6a9",
   "metadata": {},
   "source": [
    "cf) 원핫인코딩:한 원소만 1 나머지는 0으로 나타내는 표기"
   ]
  },
  {
   "cell_type": "code",
   "execution_count": 1,
   "id": "027e0c16",
   "metadata": {},
   "outputs": [],
   "source": [
    "import numpy as np"
   ]
  },
  {
   "cell_type": "code",
   "execution_count": 2,
   "id": "1df29699",
   "metadata": {},
   "outputs": [],
   "source": [
    "def sum_squares_error(y,t):\n",
    "    return 0.5*np.sum((y-t)**2)#인수 y,t는 넘파이배열형태이다."
   ]
  },
  {
   "cell_type": "code",
   "execution_count": 3,
   "id": "edd7a46d",
   "metadata": {},
   "outputs": [
    {
     "data": {
      "text/plain": [
       "[0, 0, 1, 0, 0, 0, 0, 0, 0, 0]"
      ]
     },
     "execution_count": 3,
     "metadata": {},
     "output_type": "execute_result"
    }
   ],
   "source": [
    "t=[0,0,1,0,0,0,0,0,0,0]\n",
    "t"
   ]
  },
  {
   "cell_type": "code",
   "execution_count": 4,
   "id": "b4547c5a",
   "metadata": {},
   "outputs": [
    {
     "data": {
      "text/plain": [
       "0.09750000000000003"
      ]
     },
     "execution_count": 4,
     "metadata": {},
     "output_type": "execute_result"
    }
   ],
   "source": [
    "y=[0.1,0.05,0.6,0.0,0.05,0.1,0.0,0.1,0.0,0.0]\n",
    "sum_squares_error(np.array(y),np.array(t))#오차범위"
   ]
  },
  {
   "cell_type": "code",
   "execution_count": 5,
   "id": "26e06f3a",
   "metadata": {},
   "outputs": [
    {
     "data": {
      "text/plain": [
       "0.5975"
      ]
     },
     "execution_count": 5,
     "metadata": {},
     "output_type": "execute_result"
    }
   ],
   "source": [
    "y=[0.1,0.05,0.1,0.0,0.05,0.1,0.0,0.6,0.0,0.0]\n",
    "sum_squares_error(np.array(y),np.array(t))#오차범위"
   ]
  },
  {
   "cell_type": "markdown",
   "id": "d0dde18f",
   "metadata": {},
   "source": [
    "## 4.2.2 교차 엔트로피 오차  \n",
    "yk가 신경망의 출력,tk가 정답 레이블일때 tk는 정답에 해당하는 인덱스의 원소만 1이고 나머지는 0인 원핫인코딩형태    \n",
    "교차엔트로피 오차:정답일때의 출력이 전체값을 정하게 된다  \n",
    "- 결과(오차값)이 더 작은 추정이 정답일 가능성이 높다"
   ]
  },
  {
   "cell_type": "code",
   "execution_count": 6,
   "id": "86e27324",
   "metadata": {},
   "outputs": [],
   "source": [
    "def cross_entropy_error(y,t):\n",
    "    delta=1e-7\n",
    "    return -np.sum(t*np.log(y+delta))#np.log함수에 0을 입력하면 -무한대가 되니까 그에 대한 방지조건으로 delta를 더함"
   ]
  },
  {
   "cell_type": "code",
   "execution_count": 7,
   "id": "e475aa45",
   "metadata": {},
   "outputs": [
    {
     "data": {
      "text/plain": [
       "0.510825457099338"
      ]
     },
     "execution_count": 7,
     "metadata": {},
     "output_type": "execute_result"
    }
   ],
   "source": [
    "t=[0,0,1,0,0,0,0,0,0,0]\n",
    "y=[0.1,0.05,0.6,0.0,0.05,0.1,0.0,0.1,0.0,0.0]\n",
    "cross_entropy_error(np.array(y),np.array(t))"
   ]
  },
  {
   "cell_type": "code",
   "execution_count": 8,
   "id": "8f71b575",
   "metadata": {},
   "outputs": [
    {
     "data": {
      "text/plain": [
       "2.302584092994546"
      ]
     },
     "execution_count": 8,
     "metadata": {},
     "output_type": "execute_result"
    }
   ],
   "source": [
    "y=[0.1,0.05,0.1,0.0,0.05,0.1,0.0,0.6,0.0,0.0]\n",
    "cross_entropy_error(np.array(y),np.array(t))"
   ]
  },
  {
   "cell_type": "markdown",
   "id": "c32771d5",
   "metadata": {},
   "source": [
    "## 4.2.3 미니배치 학습  \n",
    "기계학습 문제는 훈련데이터에 대해 손실함수값을 구하고 그 값을 최대로 줄여주는 매개변수를 찾는다.  \n",
    "일반적으로 훈련데이터로부터 일부만 골라 학습을 수행한다.  \n",
    "- 미니배치 학습:수십~수백 정도의 배치사이즈로 잡고 학습 수행하는 방법"
   ]
  },
  {
   "cell_type": "code",
   "execution_count": 10,
   "id": "7639161f",
   "metadata": {},
   "outputs": [
    {
     "name": "stdout",
     "output_type": "stream",
     "text": [
      "(60000, 784)\n",
      "(60000, 10)\n"
     ]
    }
   ],
   "source": [
    "import sys,os\n",
    "sys.path.append(\"C:\\\\Users\\\\a0103\\\\DeepLearning\")\n",
    "\n",
    "from mnist import load_mnist\n",
    "(x_train, t_train), (x_test, t_test) = \\\n",
    "    load_mnist(normalize=True,one_hot_label=True)\n",
    "print(x_train.shape)\n",
    "print(t_train.shape)"
   ]
  },
  {
   "cell_type": "code",
   "execution_count": 11,
   "id": "4c225200",
   "metadata": {},
   "outputs": [],
   "source": [
    "train_size=x_train.shape[0]\n",
    "batch_size=10\n",
    "batch_mask=np.random.choice(train_size,batch_size)#훈련데이터에서 무작위로 10장만 추출하기\n",
    "x_batch=x_train[batch_mask]\n",
    "t_batch=t_train[batch_mask]\n",
    "#함수가 출력한 배열을 미니배치로 뽑아낼 데이터의 인덱스로 사용"
   ]
  },
  {
   "cell_type": "markdown",
   "id": "9d492db7",
   "metadata": {},
   "source": [
    "## 4.2.4(배치용)교차 엔트로피 오차 구현하기  \n",
    "가정)y는 신경망의 출력,t는 정답레이블"
   ]
  },
  {
   "cell_type": "code",
   "execution_count": 12,
   "id": "692f2d6e",
   "metadata": {},
   "outputs": [],
   "source": [
    "def cross_entropy_error(y,t):\n",
    "    if y.ndim==1:\n",
    "        t=t.reshape(1,t.size)\n",
    "        y=y.reshape(1,y.size)\n",
    "    batch_size=y.shape[0]\n",
    "    return -np.sum(t*np.log(y+1e-7))/batch_size#미니배치크기로 나눠서 정규화하고 이미지1장당 평균교차엔트로피 오차 계산"
   ]
  },
  {
   "cell_type": "code",
   "execution_count": 13,
   "id": "354e74a2",
   "metadata": {},
   "outputs": [],
   "source": [
    "#정답레이블이 숫자형태일때의 엔트로피 오차 함수\n",
    "def cross_entropy_error(y,t):\n",
    "    if y.ndim==1:\n",
    "        t=t.reshape(1,t.size)\n",
    "        y=y.reshape(1,y.size)\n",
    "    batch_size=y.shape[0]\n",
    "    return -np.sum(np.log(y[np.range(batch_size),t]+1e-7))/batch_size\n",
    "#np.range(batch_size)는 0~batch_size-1까지의 배열을 생성->각 데이터의 정답레이블에 해당하는 신경말의 출력을 추출한다."
   ]
  },
  {
   "cell_type": "markdown",
   "id": "1598c2f6",
   "metadata": {},
   "source": [
    "## 4.2.5 왜 손실함수를 설정하는가?  \n",
    "신경망 학습에서는 최적의 매개변수(가중치,편향)을 탐색할때 손실함수값을 최소화하는 매개변수값을 찾는다  \n",
    "매개변수의 미분을 계산하고 그 값으로 매개변수 값을 다시 갱신하는 과정을 반복  \n",
    "- 미분값이 음수면, 가중치 매개변수를 양의 방향으로 변화시켜 손실함수 값을 줄일 수 있다  \n",
    "- 미분값이 양수면, 가중치 매개변수를 음의 방향으로 변화시켜 손실함수 값을 줄일 수 있다\n",
    "- 미분값이 0이면 손실함수값은 더이상 줄어들지 않고 따라서 가중치 매개변수 갱신은 멈추게 된다.  "
   ]
  },
  {
   "cell_type": "markdown",
   "id": "5c95180f",
   "metadata": {},
   "source": [
    "## 4.3.1 미분  "
   ]
  },
  {
   "cell_type": "markdown",
   "id": "de5d9e20",
   "metadata": {},
   "source": [
    "수치미분시 고려해야할 점:1.반올림 오차 문제 2.함수f의 처분"
   ]
  },
  {
   "cell_type": "code",
   "execution_count": 14,
   "id": "2c0a0285",
   "metadata": {},
   "outputs": [],
   "source": [
    "def numerical_diff(f,x):#중심차분\n",
    "    h=1e-4 #0.0001\n",
    "    return (f(x+h)-f(x-h))/(2*h)"
   ]
  },
  {
   "cell_type": "markdown",
   "id": "5ce4705a",
   "metadata": {},
   "source": [
    "## 4.3.2 수치미분의 예"
   ]
  },
  {
   "cell_type": "code",
   "execution_count": 15,
   "id": "32a9bbf9",
   "metadata": {},
   "outputs": [],
   "source": [
    "def function_1(x):\n",
    "    return 0.01*x**2+0.1*x"
   ]
  },
  {
   "cell_type": "code",
   "execution_count": 16,
   "id": "4d03a1f8",
   "metadata": {},
   "outputs": [
    {
     "data": {
      "image/png": "[encoded data removed]",
      "text/plain": [
       "<Figure size 432x288 with 1 Axes>"
      ]
     },
     "metadata": {
      "needs_background": "light"
     },
     "output_type": "display_data"
    }
   ],
   "source": [
    "import numpy as np\n",
    "import matplotlib.pyplot as plt\n",
    "x=np.arange(0.0,20.0,0.1)\n",
    "y=function_1(x)\n",
    "plt.xlabel(\"x\")\n",
    "plt.ylabel(\"f(x)\")\n",
    "plt.plot(x,y)\n",
    "plt.show()"
   ]
  },
  {
   "cell_type": "code",
   "execution_count": 17,
   "id": "b3d81ad5",
   "metadata": {},
   "outputs": [
    {
     "name": "stdout",
     "output_type": "stream",
     "text": [
      "0.1999999999990898\n",
      "0.2999999999986347\n"
     ]
    }
   ],
   "source": [
    "print(numerical_diff(function_1,5))#계산한 미분값이 f(x)의 변화량이다.\n",
    "print(numerical_diff(function_1,10))"
   ]
  },
  {
   "cell_type": "markdown",
   "id": "8c822987",
   "metadata": {},
   "source": [
    "## 4.3.3 편미분  \n",
    "편미분: 변수가 여러개인 함수에 대한 미분"
   ]
  },
  {
   "cell_type": "code",
   "execution_count": 18,
   "id": "a0710a4b",
   "metadata": {},
   "outputs": [],
   "source": [
    "def function_2(x):\n",
    "    return x[0]**2+x[1]**2"
   ]
  },
  {
   "cell_type": "code",
   "execution_count": 19,
   "id": "6f4cbb89",
   "metadata": {},
   "outputs": [
    {
     "data": {
      "text/plain": [
       "6.00000000000378"
      ]
     },
     "execution_count": 19,
     "metadata": {},
     "output_type": "execute_result"
    }
   ],
   "source": [
    "def function_tmp1(x0):\n",
    "    return x0*x0+4.0**2.0\n",
    "numerical_diff(function_tmp1,3.0)"
   ]
  },
  {
   "cell_type": "code",
   "execution_count": 20,
   "id": "320c927a",
   "metadata": {},
   "outputs": [
    {
     "data": {
      "text/plain": [
       "7.999999999999119"
      ]
     },
     "execution_count": 20,
     "metadata": {},
     "output_type": "execute_result"
    }
   ],
   "source": [
    "def function_tmp2(x1):\n",
    "    return 3.0*2.0+x1*x1\n",
    "numerical_diff(function_tmp2,4.0)"
   ]
  },
  {
   "cell_type": "markdown",
   "id": "48550900",
   "metadata": {},
   "source": [
    "## 4.4.1기울기\n",
    "모든 변수의 편미분을 벡터로 정리한 것=기울기"
   ]
  },
  {
   "cell_type": "code",
   "execution_count": 23,
   "id": "013579d9",
   "metadata": {},
   "outputs": [],
   "source": [
    "def numerical_gradient(f,x):\n",
    "    h=1e-4\n",
    "    grad=np.zeros_like(x)\n",
    "    for idx in range(x.size):\n",
    "        tmp_val=x[idx]\n",
    "        #f(x+h)계산\n",
    "        x[idx]=tmp_val+h\n",
    "        fxh1=f(x)\n",
    "        #f(x-h)계산\n",
    "        x[idx]=tmp_val-h\n",
    "        fxh2=f(x)\n",
    "        \n",
    "        grad[idx]=(fxh1-fxh2)/(2*h)\n",
    "        x[idx]=tmp_val#값 복원\n",
    "    return grad"
   ]
  },
  {
   "cell_type": "code",
   "execution_count": 24,
   "id": "c38d6d6a",
   "metadata": {},
   "outputs": [
    {
     "data": {
      "text/plain": [
       "array([6., 8.])"
      ]
     },
     "execution_count": 24,
     "metadata": {},
     "output_type": "execute_result"
    }
   ],
   "source": [
    "numerical_gradient(function_2,np.array([3.0,4.0]))"
   ]
  },
  {
   "cell_type": "code",
   "execution_count": 25,
   "id": "4510dd7d",
   "metadata": {},
   "outputs": [
    {
     "data": {
      "text/plain": [
       "array([0., 4.])"
      ]
     },
     "execution_count": 25,
     "metadata": {},
     "output_type": "execute_result"
    }
   ],
   "source": [
    "numerical_gradient(function_2,np.array([0.0,2.0]))"
   ]
  },
  {
   "cell_type": "code",
   "execution_count": 26,
   "id": "5230ec50",
   "metadata": {},
   "outputs": [
    {
     "name": "stderr",
     "output_type": "stream",
     "text": [
      "No artists with labels found to put in legend.  Note that artists whose label start with an underscore are ignored when legend() is called with no argument.\n"
     ]
    },
    {
     "data": {
      "image/png": "[encoded data removed]",
      "text/plain": [
       "<Figure size 432x288 with 1 Axes>"
      ]
     },
     "metadata": {
      "needs_background": "light"
     },
     "output_type": "display_data"
    }
   ],
   "source": [
    "import numpy as np\n",
    "import matplotlib.pylab as plt\n",
    "from mpl_toolkits.mplot3d import Axes3D\n",
    "\n",
    "def _numerical_gradient_no_batch(f, x):\n",
    "    h = 1e-4 # 0.0001\n",
    "    grad = np.zeros_like(x) # x와 형상이 같은 배열을 생성\n",
    "    \n",
    "    for idx in range(x.size):\n",
    "        tmp_val = x[idx]\n",
    "        \n",
    "        # f(x+h) 계산\n",
    "        x[idx] = float(tmp_val) + h\n",
    "        fxh1 = f(x)\n",
    "        \n",
    "        # f(x-h) 계산\n",
    "        x[idx] = tmp_val - h \n",
    "        fxh2 = f(x) \n",
    "        \n",
    "        grad[idx] = (fxh1 - fxh2) / (2*h)\n",
    "        x[idx] = tmp_val # 값 복원\n",
    "        \n",
    "    return grad\n",
    "\n",
    "\n",
    "def numerical_gradient(f, X):\n",
    "    if X.ndim == 1:\n",
    "        return _numerical_gradient_no_batch(f, X)\n",
    "    else:\n",
    "        grad = np.zeros_like(X)\n",
    "        \n",
    "        for idx, x in enumerate(X):\n",
    "            grad[idx] = _numerical_gradient_no_batch(f, x)\n",
    "        \n",
    "        return grad\n",
    "\n",
    "\n",
    "def function_2(x):\n",
    "    if x.ndim == 1:\n",
    "        return np.sum(x**2)\n",
    "    else:\n",
    "        return np.sum(x**2, axis=1)\n",
    "\n",
    "\n",
    "def tangent_line(f, x):\n",
    "    d = numerical_gradient(f, x)\n",
    "    print(d)\n",
    "    y = f(x) - d*x\n",
    "    return lambda t: d*t + y\n",
    "     \n",
    "if __name__ == '__main__':\n",
    "    x0 = np.arange(-2, 2.5, 0.25)\n",
    "    x1 = np.arange(-2, 2.5, 0.25)\n",
    "    X, Y = np.meshgrid(x0, x1)\n",
    "    \n",
    "    X = X.flatten()\n",
    "    Y = Y.flatten()\n",
    "    \n",
    "    grad = numerical_gradient(function_2, np.array([X, Y]) )\n",
    "    \n",
    "    plt.figure()\n",
    "    plt.quiver(X, Y, -grad[0], -grad[1],  angles=\"xy\",color=\"#666666\")#,headwidth=10,scale=40,color=\"#444444\")\n",
    "    plt.xlim([-2, 2])\n",
    "    plt.ylim([-2, 2])\n",
    "    plt.xlabel('x0')\n",
    "    plt.ylabel('x1')\n",
    "    plt.grid()\n",
    "    plt.legend()\n",
    "    plt.draw()\n",
    "    plt.show()"
   ]
  },
  {
   "cell_type": "markdown",
   "id": "c013f8d6",
   "metadata": {},
   "source": [
    "위 그림에서 기울기가 가리키는 쪽은 각 장소에서 함수의 출력값을 가장 크게 줄이는 방향이다. 기울기는 각 지점에서 낮아지는 방향을 가리킨다."
   ]
  },
  {
   "cell_type": "markdown",
   "id": "f0550a32",
   "metadata": {},
   "source": [
    "## 4.4.1경사하강법  \n",
    "기울기를 이용해 함수의 최소값을 찾으려고 하는 경사법  \n",
    "최적이란 손실함수가 최솟값일때의 매개변수값이다.  \n",
    "경사법: 현위치에서 기울어진 방향으로 일정거리만큼 이동하고 또 다시 기울기 구하고 기울어진 방향으로 나아가는 걸 반복하면서 함수값 줄이는 방법"
   ]
  },
  {
   "cell_type": "markdown",
   "id": "def299b7",
   "metadata": {},
   "source": [
    "- 경사하강법: 최소값을 찾는 경우  \n",
    "- 경사상승법: 최댓값을 찾는 경우  "
   ]
  },
  {
   "cell_type": "code",
   "execution_count": 27,
   "id": "4d27d171",
   "metadata": {},
   "outputs": [],
   "source": [
    "def numerical_gradient(f,x):\n",
    "    h=1e-4\n",
    "    grad=np.zeros_like(x)#x와 형상이 같고 원소값이 0인 배열 생성\n",
    "    for idx in range(x.size):\n",
    "        tmp_val=x[idx]\n",
    "        #f(x+h)계산\n",
    "        x[idx]=tmp_val+h\n",
    "        fxh1=f(x)\n",
    "        #f(x-h)계산\n",
    "        x[idx]=tmp_val-h\n",
    "        fxh2=f(x)\n",
    "        grad[idx]=(fxh1-fxh2)/(2*h)\n",
    "        x[idx]=tmp_val#값 복원\n",
    "    return grad"
   ]
  },
  {
   "cell_type": "markdown",
   "id": "d836019f",
   "metadata": {},
   "source": [
    "cf)f:최적화하려는 함수  \n",
    "init_x:초기값  \n",
    "lr:learning rate  \n",
    "step_num:경사법에 따른 반복횟수  \n",
    "기울기를 numerical_gradient로 구하고 기울기에 학습률을 곱한 값으로 갱신하는 처리는 step_num번 반복"
   ]
  },
  {
   "cell_type": "code",
   "execution_count": 28,
   "id": "5ea31a11",
   "metadata": {},
   "outputs": [],
   "source": [
    "def gradient_descent(f,init_x,lr=0.01,step_num=100):\n",
    "    x=init_x\n",
    "    for i in range(step_num):\n",
    "        grad=numerical_gradient(f,x)\n",
    "        x-=lr*grad\n",
    "    return x"
   ]
  },
  {
   "cell_type": "code",
   "execution_count": 29,
   "id": "ca58dd9a",
   "metadata": {},
   "outputs": [
    {
     "data": {
      "text/plain": [
       "array([-6.11110793e-10,  8.14814391e-10])"
      ]
     },
     "execution_count": 29,
     "metadata": {},
     "output_type": "execute_result"
    }
   ],
   "source": [
    "def function_2(x):\n",
    "    return x[0]**2+x[1]**2\n",
    "init_x=np.array([-3.0,4.0])\n",
    "gradient_descent(function_2,init_x=init_x,lr=0.1,step_num=100)"
   ]
  },
  {
   "cell_type": "code",
   "execution_count": 31,
   "id": "b58f13de",
   "metadata": {},
   "outputs": [
    {
     "data": {
      "text/plain": [
       "array([-2.58983747e+13, -1.29524862e+12])"
      ]
     },
     "execution_count": 31,
     "metadata": {},
     "output_type": "execute_result"
    }
   ],
   "source": [
    "#학습률이 너무 클때:lr=10.0\n",
    "init_x=np.array([-3.0,4.0])\n",
    "gradient_descent(function_2,init_x=init_x,lr=10.0,step_num=100)"
   ]
  },
  {
   "cell_type": "code",
   "execution_count": 32,
   "id": "1f023c2d",
   "metadata": {},
   "outputs": [
    {
     "data": {
      "text/plain": [
       "array([-2.99999994,  3.99999992])"
      ]
     },
     "execution_count": 32,
     "metadata": {},
     "output_type": "execute_result"
    }
   ],
   "source": [
    "init_x=np.array([-3.0,4.0])#학습률이 너무 작을 경우\n",
    "gradient_descent(function_2,init_x=init_x,lr=1e-10,step_num=100)"
   ]
  },
  {
   "cell_type": "markdown",
   "id": "82efb9e2",
   "metadata": {},
   "source": [
    "## 4.4.2 신경망에서의 기울기  \n",
    "기울기:가중치 매개변수에 대한 손실함수의 기울기이다.  \n",
    "W:가중치, L:손실함수  "
   ]
  },
  {
   "cell_type": "code",
   "execution_count": 35,
   "id": "50caa60b",
   "metadata": {},
   "outputs": [],
   "source": [
    "import numpy as np\n",
    "def softmax(x):\n",
    "    if x.ndim == 2:\n",
    "        x = x.T\n",
    "        x = x - np.max(x, axis=0)\n",
    "        y = np.exp(x) / np.sum(np.exp(x), axis=0)\n",
    "        return y.T \n",
    "\n",
    "    x = x - np.max(x) # 오버플로 대책\n",
    "    return np.exp(x) / np.sum(np.exp(x))\n",
    "\n",
    "def cross_entropy_error(y, t):\n",
    "    if y.ndim == 1:\n",
    "        t = t.reshape(1, t.size)\n",
    "        y = y.reshape(1, y.size)\n",
    "        \n",
    "    # 훈련 데이터가 원-핫 벡터라면 정답 레이블의 인덱스로 반환\n",
    "    if t.size == y.size:\n",
    "        t = t.argmax(axis=1)\n",
    "             \n",
    "    batch_size = y.shape[0]\n",
    "    return -np.sum(np.log(y[np.arange(batch_size), t])) / batch_size\n",
    "\n",
    "def numerical_gradient(f, x):\n",
    "    h = 1e-4 # 0.0001\n",
    "    grad = np.zeros_like(x)\n",
    "    \n",
    "    it = np.nditer(x, flags=['multi_index'], op_flags=['readwrite'])\n",
    "    while not it.finished:\n",
    "        idx = it.multi_index\n",
    "        tmp_val = x[idx]\n",
    "        x[idx] = float(tmp_val) + h\n",
    "        fxh1 = f(x) # f(x+h)\n",
    "        \n",
    "        x[idx] = tmp_val - h \n",
    "        fxh2 = f(x) # f(x-h)\n",
    "        grad[idx] = (fxh1 - fxh2) / (2*h)\n",
    "        \n",
    "        x[idx] = tmp_val # 값 복원\n",
    "        it.iternext()   \n",
    "        \n",
    "    return grad\n",
    "\n",
    "#x는 입력데이터,t는 정답레이블이다.\n",
    "class simpleNet:\n",
    "    def __init__(self):\n",
    "        self.W=np.random.randn(2,3)#정규분포로 초기화\n",
    "        \n",
    "    def predict(self,x):#예측값\n",
    "        return np.dot(x,self.W)\n",
    "    \n",
    "    def loss(self,x,t):#손실함수값\n",
    "        z=self.predict(x)\n",
    "        y=softmax(z)\n",
    "        loss=cross_entropy_error(y,t)\n",
    "        return loss"
   ]
  },
  {
   "cell_type": "code",
   "execution_count": 36,
   "id": "412091a4",
   "metadata": {},
   "outputs": [
    {
     "name": "stdout",
     "output_type": "stream",
     "text": [
      "[[-0.84840584  0.43255557  0.43528069]\n",
      " [ 0.47053813 -0.86337708 -0.77606761]]\n"
     ]
    }
   ],
   "source": [
    "net=simpleNet()\n",
    "print(net.W)#가중치매개변수"
   ]
  },
  {
   "cell_type": "code",
   "execution_count": 37,
   "id": "3751adeb",
   "metadata": {},
   "outputs": [
    {
     "name": "stdout",
     "output_type": "stream",
     "text": [
      "[-0.08555919 -0.51750603 -0.43729244]\n"
     ]
    },
    {
     "data": {
      "text/plain": [
       "0"
      ]
     },
     "execution_count": 37,
     "metadata": {},
     "output_type": "execute_result"
    }
   ],
   "source": [
    "x=np.array([0.6,0.9])\n",
    "p=net.predict(x)#x 내적 가중치\n",
    "print(p)\n",
    "np.argmax(p)#최댓값 인덱스"
   ]
  },
  {
   "cell_type": "code",
   "execution_count": 38,
   "id": "d6debf2b",
   "metadata": {},
   "outputs": [
    {
     "data": {
      "text/plain": [
       "1.20730179854681"
      ]
     },
     "execution_count": 38,
     "metadata": {},
     "output_type": "execute_result"
    }
   ],
   "source": [
    "t=np.array([0,0,1])#정답 레이블\n",
    "net.loss(x,t)"
   ]
  },
  {
   "cell_type": "code",
   "execution_count": 53,
   "id": "d2e94f54",
   "metadata": {},
   "outputs": [
    {
     "name": "stdout",
     "output_type": "stream",
     "text": [
      "[[ 0.10126775  0.10647886 -0.20774662]\n",
      " [ 0.15190163  0.1597183  -0.31161993]]\n"
     ]
    }
   ],
   "source": [
    "def f(W):\n",
    "    return net.loss(x,t)\n",
    "dW=numerical_gradient(f,net.W)#net.W를 인수로 받아 손실함수를 계산하는 새로운 함수f를 만듦\n",
    "print(dW)"
   ]
  },
  {
   "cell_type": "markdown",
   "id": "dc8ea020",
   "metadata": {},
   "source": [
    "w11은 대략 0.16, w11을 h만큼 늘리면 손실함수는 0.16h만큼 증가. 손실함수를 줄이려면 '음의 방향' 으로 갱신해야 함.\n",
    "\n",
    "w23은 대략 -0.31, w23을 h만큼 늘리면 손실함수는 0.31h만큼 감소. 손실함수를 줄이려면 '양의 방향' 으로 갱신해야 함.\n",
    "\n",
    "파이썬에서는 간단한 함수는 lambda 기법을 쓰면 더 편리함"
   ]
  },
  {
   "cell_type": "code",
   "execution_count": 39,
   "id": "2fa19f19",
   "metadata": {},
   "outputs": [
    {
     "name": "stdout",
     "output_type": "stream",
     "text": [
      "[[ 0.25502488  0.16557334 -0.42059822]\n",
      " [ 0.38253732  0.24836002 -0.63089733]]\n"
     ]
    }
   ],
   "source": [
    "f=lambda w:net.loss(x,t)\n",
    "dW=numerical_gradient(f,net.W)\n",
    "print(dW)"
   ]
  },
  {
   "cell_type": "markdown",
   "id": "4ed7cbe9",
   "metadata": {},
   "source": [
    "## 4.5.1 2층 신경망 클래스 구현하기 및 학습 알고리즘 구현하기"
   ]
  },
  {
   "cell_type": "markdown",
   "id": "71aa04a9",
   "metadata": {},
   "source": [
    "학습: 가중치와 편향을 훈련 데이터에 적응하도록 조정하는 과정\n",
    "\n",
    "1단계 - 미니배치 : 훈련 데이터 중 일부를 무작위로 가져옴. 손실 함수 값을 줄이는 것이 목표.\n",
    "\n",
    "2단계 - 기울기 산출 : 각 가중치 매개변수의 기울기를 구함. 기울기는 손실 함수의 값을 가장 작게 하는 방향을 제시\n",
    "\n",
    "3단계 - 매개변수 갱신 : 가중치 매개변수를 기울기 방향으로 아주 조금 갱신\n",
    "\n",
    "4단계 - 반복 : 1~3단계를 반복\n",
    "\n",
    "확률적 경사 하강법(stochastic gradient descent, SGD) : 미니배치로 무작위로 선택하여 골라낸 데이터로 경사하강하는 법"
   ]
  },
  {
   "cell_type": "code",
   "execution_count": 40,
   "id": "93a55808",
   "metadata": {},
   "outputs": [],
   "source": [
    "import numpy as np\n",
    "def sigmoid_grad(x):\n",
    "    return (1.0 - sigmoid(x)) * sigmoid(x)\n",
    "class TwoLayerNet:\n",
    "    def __init__(self, input_size, hidden_size, output_size, weight_init_std=0.01):\n",
    "        # 가중치 초기화\n",
    "        self.params = {}\n",
    "        self.params['W1'] = weight_init_std * np.random.randn(input_size, hidden_size)\n",
    "        self.params['b1'] = np.zeros(hidden_size)\n",
    "        self.params['W2'] = weight_init_std * np.random.randn(hidden_size, output_size)\n",
    "        self.params['b2'] = np.zeros(output_size)\n",
    "    def predict(self, x):\n",
    "        W1, W2 = self.params['W1'], self.params['W2']\n",
    "        b1, b2 = self.params['b1'], self.params['b2']\n",
    "        a1 = np.dot(x, W1) + b1\n",
    "        z1 = sigmoid(a1)\n",
    "        a2 = np.dot(z1, W2) + b2\n",
    "        y = softmax(a2)\n",
    "        return y\n",
    "        \n",
    "    # x : 입력 데이터, t : 정답 레이블\n",
    "    def loss(self, x, t):\n",
    "        y = self.predict(x)\n",
    "        return cross_entropy_error(y, t)\n",
    "    \n",
    "    def accuracy(self, x, t):\n",
    "        y = self.predict(x)\n",
    "        y = np.argmax(y, axis=1)\n",
    "        t = np.argmax(t, axis=1)\n",
    "        accuracy = np.sum(y == t) / float(x.shape[0])\n",
    "        return accuracy\n",
    "        \n",
    "    # x : 입력 데이터, t : 정답 레이블\n",
    "    def numerical_gradient(self, x, t):\n",
    "        loss_W = lambda W: self.loss(x, t)\n",
    "        grads = {}\n",
    "        grads['W1'] = numerical_gradient(loss_W, self.params['W1'])\n",
    "        grads['b1'] = numerical_gradient(loss_W, self.params['b1'])\n",
    "        grads['W2'] = numerical_gradient(loss_W, self.params['W2'])\n",
    "        grads['b2'] = numerical_gradient(loss_W, self.params['b2'])\n",
    "        return grads\n",
    "    \n",
    "    def gradient(self, x, t):\n",
    "        W1, W2 = self.params['W1'], self.params['W2']\n",
    "        b1, b2 = self.params['b1'], self.params['b2']\n",
    "        grads = {}\n",
    "        batch_num = x.shape[0]\n",
    "        \n",
    "        # forward\n",
    "        a1 = np.dot(x, W1) + b1\n",
    "        z1 = sigmoid(a1)\n",
    "        a2 = np.dot(z1, W2) + b2\n",
    "        y = softmax(a2)\n",
    "        \n",
    "        # backward\n",
    "        dy = (y - t) / batch_num\n",
    "        grads['W2'] = np.dot(z1.T, dy)\n",
    "        grads['b2'] = np.sum(dy, axis=0)\n",
    "        \n",
    "        da1 = np.dot(dy, W2.T)\n",
    "        dz1 = sigmoid_grad(a1) * da1\n",
    "        grads['W1'] = np.dot(x.T, dz1)\n",
    "        grads['b1'] = np.sum(dz1, axis=0)\n",
    "        return grads"
   ]
  },
  {
   "cell_type": "code",
   "execution_count": 41,
   "id": "bb751174",
   "metadata": {},
   "outputs": [],
   "source": [
    "def sigmoid(x):\n",
    "    return 1 / (1 + np.exp(-x))\n",
    "\n",
    "def sigmoid_diff(x):\n",
    "    return sigmoid(x) * (1 - sigmoid(x))\n",
    "\n",
    "def 시그모이드_접선(x): # 접선 ax+b에서 a,b 값을 리턴\n",
    "    return sigmoid_diff(x), sigmoid(x) - sigmoid_diff(x) * x"
   ]
  },
  {
   "cell_type": "markdown",
   "id": "21fc7989",
   "metadata": {},
   "source": [
    "params:신경망의 매개변수를 보관하는 딕셔너리 변수(인스턴스변수)  \n",
    "이때,params['W1']은 1번째 은닉층의 가중치,params['b1']은 1번째 은닉층의 편향  \n",
    "이때,params['W2']는 2번째 은닉층의 가중치,params['b2']는 2번째 은닉층의 편향  \n",
    "***\n",
    "grads:기울기 보관하는 딕셔너리 변수  \n",
    "grads['W1']은 1번째 은닉층의 가중치 기울기,grads['b1']은 1번째 은닉층의 편향 기울기  \n",
    "grads['W2']은 2번째 은닉층의 가중치 기울기,grads['b2']는 2번째 은닉층의 편향 기울기  "
   ]
  },
  {
   "cell_type": "markdown",
   "id": "36c35db8",
   "metadata": {},
   "source": [
    "### TwoLayerNet메소드들  \n",
    "__init__:초기화 수행  \n",
    "predict(self,x): 예측 수행(인수는 이미지데이터)  \n",
    "loss(self.x,t): 손실함수 값을 구함(인수는 이미지데이터,정답레이블이다)  \n",
    "accuracy(self.x,t): 정확도  \n",
    "numerical_gradient(self.x,t): 가중치 매개변수의 기울기 구하기  \n",
    "gradient(self.x,t): 가중치 매개변수의 기울기를 구한다.  "
   ]
  },
  {
   "cell_type": "code",
   "execution_count": 42,
   "id": "88f8c8e4",
   "metadata": {},
   "outputs": [
    {
     "name": "stdout",
     "output_type": "stream",
     "text": [
      "(784, 100)\n",
      "(100,)\n",
      "(100, 10)\n",
      "(10,)\n"
     ]
    }
   ],
   "source": [
    "net = TwoLayerNet(input_size=784, hidden_size=100, output_size=10)\n",
    "print(net.params['W1'].shape) \n",
    "print(net.params['b1'].shape) \n",
    "print(net.params['W2'].shape) \n",
    "print(net.params['b2'].shape) "
   ]
  },
  {
   "cell_type": "code",
   "execution_count": 43,
   "id": "9817aced",
   "metadata": {},
   "outputs": [],
   "source": [
    "x = np.random.rand(100, 784) # 더미 입력 데이터(100장 분량)\n",
    "y = net.predict(x)"
   ]
  },
  {
   "cell_type": "code",
   "execution_count": 44,
   "id": "e9cd8cef",
   "metadata": {},
   "outputs": [
    {
     "data": {
      "text/plain": [
       "(10,)"
      ]
     },
     "execution_count": 44,
     "metadata": {},
     "output_type": "execute_result"
    }
   ],
   "source": [
    "x=np.random.rand(100,784)\n",
    "t=np.random.rand(100,10)\n",
    "grads=net.numerical_gradient(x,t)\n",
    "grads['W1'].shape\n",
    "grads['b1'].shape\n",
    "grads['W2'].shape\n",
    "grads['b2'].shape"
   ]
  },
  {
   "cell_type": "markdown",
   "id": "ab3d5828",
   "metadata": {},
   "source": [
    "## 4.5.2 미니배치 학습 구현하기"
   ]
  },
  {
   "cell_type": "code",
   "execution_count": 45,
   "id": "7617d8db",
   "metadata": {},
   "outputs": [
    {
     "name": "stdout",
     "output_type": "stream",
     "text": [
      "train acc, test acc | 0.09736666666666667, 0.0982\n",
      "train acc, test acc | 0.7975333333333333, 0.8008\n",
      "train acc, test acc | 0.8782333333333333, 0.8811\n",
      "train acc, test acc | 0.8987, 0.9019\n",
      "train acc, test acc | 0.9082, 0.9106\n",
      "train acc, test acc | 0.91385, 0.9154\n",
      "train acc, test acc | 0.9194333333333333, 0.9215\n",
      "train acc, test acc | 0.92425, 0.9249\n",
      "train acc, test acc | 0.9283666666666667, 0.9298\n",
      "train acc, test acc | 0.9316666666666666, 0.9334\n",
      "train acc, test acc | 0.9348833333333333, 0.936\n",
      "train acc, test acc | 0.9365333333333333, 0.9379\n",
      "train acc, test acc | 0.9398, 0.9408\n",
      "train acc, test acc | 0.9421333333333334, 0.9421\n",
      "train acc, test acc | 0.9443833333333334, 0.9448\n",
      "train acc, test acc | 0.9462833333333334, 0.9465\n",
      "train acc, test acc | 0.9482833333333334, 0.9463\n"
     ]
    }
   ],
   "source": [
    "(x_train, t_train), (x_test, t_test) = load_mnist(normalize=True, one_hot_label=True)\n",
    "network = TwoLayerNet(input_size=784, hidden_size=50, output_size=10)\n",
    "\n",
    "train_loss_list = []\n",
    "train_acc_list = []\n",
    "test_acc_list = []\n",
    "# 하이퍼파라미터\n",
    "iters_num = 10000  # 반복 횟수를 적절히 설정\n",
    "train_size = x_train.shape[0]\n",
    "batch_size = 100   # 미니배치 크기\n",
    "learning_rate = 0.1#학습률\n",
    "\n",
    "# 1에포크당 반복 수\n",
    "iter_per_epoch = max(train_size / batch_size, 1)\n",
    "\n",
    "for i in range(iters_num):\n",
    "    # 미니배치 획득\n",
    "    batch_mask = np.random.choice(train_size, batch_size)\n",
    "    x_batch = x_train[batch_mask]#미니배치크기만큼 train,test데이터셋에서 획득\n",
    "    t_batch = t_train[batch_mask]\n",
    "    \n",
    "    # 기울기 계산하는 부분\n",
    "    grad = network.gradient(x_batch, t_batch)\n",
    "    \n",
    "    # 매개변수 갱신(경사하강법 쓰면서)\n",
    "    for key in ('W1', 'b1', 'W2', 'b2'):\n",
    "        network.params[key] -= learning_rate * grad[key]\n",
    "    \n",
    "    # 학습 경과 기록\n",
    "    loss = network.loss(x_batch, t_batch)\n",
    "    train_loss_list.append(loss)\n",
    "\n",
    "    # 1에폭당 정확도 계산->시간이 오래걸리고 자주 기록할 필요도 없기 때문에 1에포크마다 계산\n",
    "    if i % iter_per_epoch == 0:\n",
    "        train_acc = network.accuracy(x_train, t_train)\n",
    "        test_acc = network.accuracy(x_test, t_test)\n",
    "        train_acc_list.append(train_acc)\n",
    "        test_acc_list.append(test_acc)\n",
    "        print(\"train acc, test acc | \" + str(train_acc) + \", \" + str(test_acc))"
   ]
  },
  {
   "cell_type": "code",
   "execution_count": 46,
   "id": "0b986729",
   "metadata": {},
   "outputs": [
    {
     "data": {
      "text/plain": [
       "(0.0, 3.0)"
      ]
     },
     "execution_count": 46,
     "metadata": {},
     "output_type": "execute_result"
    },
    {
     "data": {
      "image/png": "[encoded data removed]",
      "text/plain": [
       "<Figure size 432x288 with 2 Axes>"
      ]
     },
     "metadata": {
      "needs_background": "light"
     },
     "output_type": "display_data"
    }
   ],
   "source": [
    "# 그림 4-11 손실 함수의 추이: 위쪽은 10,000회 반복까지의 추이, 아래쪽은 1,000회 반복까지의 추이\n",
    "f, (ax1, ax2) = plt.subplots(2, 1)\n",
    "x = np.array(range(iters_num))\n",
    "ax1.plot(x, train_loss_list, label='loss')\n",
    "ax1.set_xlabel(\"iteration\")\n",
    "ax1.set_ylabel(\"loss\")\n",
    "ax1.set_ylim(0, 3.0)\n",
    "ax2.plot(x[:1000], train_loss_list[:1000], label='loss')\n",
    "ax2.set_xlabel(\"iteration\")\n",
    "ax2.set_ylabel(\"loss\")\n",
    "ax2.set_ylim(0, 3.0)"
   ]
  },
  {
   "cell_type": "markdown",
   "id": "e9e02b8d",
   "metadata": {},
   "source": [
    "## 4.5.3 시험데이터로 평가하기  \n",
    "손실함수의 값:훈련데이터의 미니배치에 대한 손실함수 값이다.  \n",
    "훈련데이터의 손실함수값이 작아지는 것은 신경망이 잘 학습하고 있다는 의미다  \n",
    "But,과적합문제를 일으키지 않는지 확인해야함  \n",
    "따라서 정확도를 평가함  "
   ]
  },
  {
   "cell_type": "code",
   "execution_count": 47,
   "id": "b7cb4ae4",
   "metadata": {},
   "outputs": [
    {
     "data": {
      "image/png": "[encoded data removed]",
      "text/plain": [
       "<Figure size 432x288 with 1 Axes>"
      ]
     },
     "metadata": {
      "needs_background": "light"
     },
     "output_type": "display_data"
    }
   ],
   "source": [
    "markers = {'train': 'o', 'test': 's'}\n",
    "x = np.arange(len(train_acc_list))\n",
    "plt.plot(x, train_acc_list, label='train acc')\n",
    "plt.plot(x, test_acc_list, label='test acc', linestyle='--',color='red')\n",
    "plt.xlabel(\"epochs\")\n",
    "plt.ylabel(\"accuracy\")\n",
    "plt.ylim(0, 1.0)\n",
    "plt.legend(loc='lower right')\n",
    "plt.show()#이 경우 오버피팅이 일어나지 않았음->모델이 성공적인 편"
   ]
  }
 ],
 "metadata": {
  "kernelspec": {
   "display_name": "Python 3 (ipykernel)",
   "language": "python",
   "name": "python3"
  },
  "language_info": {
   "codemirror_mode": {
    "name": "ipython",
    "version": 3
   },
   "file_extension": ".py",
   "mimetype": "text/x-python",
   "name": "python",
   "nbconvert_exporter": "python",
   "pygments_lexer": "ipython3",
   "version": "3.9.12"
  }
 },
 "nbformat": 4,
 "nbformat_minor": 5
}
